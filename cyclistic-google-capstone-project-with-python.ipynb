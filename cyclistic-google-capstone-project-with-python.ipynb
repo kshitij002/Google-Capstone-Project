{
 "cells": [
  {
   "cell_type": "markdown",
   "id": "1beac16b",
   "metadata": {
    "papermill": {
     "duration": 0.053927,
     "end_time": "2021-12-30T12:41:06.629771",
     "exception": false,
     "start_time": "2021-12-30T12:41:06.575844",
     "status": "completed"
    },
    "tags": []
   },
   "source": [
    "# **Cyclistic: Google Capstone Project with Python**"
   ]
  },
  {
   "cell_type": "markdown",
   "id": "67fe32d9",
   "metadata": {
    "papermill": {
     "duration": 0.050067,
     "end_time": "2021-12-30T12:41:06.731054",
     "exception": false,
     "start_time": "2021-12-30T12:41:06.680987",
     "status": "completed"
    },
    "tags": []
   },
   "source": [
    "# Introduction:"
   ]
  },
  {
   "cell_type": "markdown",
   "id": "77f2dd5d",
   "metadata": {
    "papermill": {
     "duration": 0.049903,
     "end_time": "2021-12-30T12:41:06.831074",
     "exception": false,
     "start_time": "2021-12-30T12:41:06.781171",
     "status": "completed"
    },
    "tags": []
   },
   "source": [
    "Welcome to the Cyclistic bike-share analysis case study! Cyclistic is a bike-share company in Chicago. The director of marketing believes the company’s future success depends on maximizing the number of annual memberships. Therefore, the team wants to understand how casual riders and annual members use Cyclistic bikes differently. From these insights, the team will design a new marketing strategy to convert casual riders into annual members. But first, Cyclistic executives\n",
    "must approve your recommendations, so they must be backed up with compelling data insights and professional data visualizations."
   ]
  },
  {
   "cell_type": "markdown",
   "id": "f9cd7144",
   "metadata": {
    "papermill": {
     "duration": 0.05104,
     "end_time": "2021-12-30T12:41:06.933417",
     "exception": false,
     "start_time": "2021-12-30T12:41:06.882377",
     "status": "completed"
    },
    "tags": []
   },
   "source": [
    "# Characters and Teams:\n",
    "\n",
    "* **Cyclistic:** A bike-share program that features more than 5,800 bicycles and 600 docking stations. Cyclistic sets itself apart by also offering reclining bikes, hand tricycles, and cargo bikes, making bike-share more inclusive to people with disabilities and riders who can’t use a standard two-wheeled bike. The majority of riders opt for traditional bikes; about 8% of riders use the assistive options. Cyclistic users are more likely to ride for leisure, but about 30% use them to commute to work each day.\n",
    "\n",
    "* **Lily Moreno:** The director of marketing and your manager. Moreno is responsible for the development of campaigns and initiatives to promote the bike-share program. These may include email, social media, and other channels.\n",
    "\n",
    "* **Cyclistic marketing analytics team:** A team of data analysts who are responsible for collecting, analyzing, and reporting data that helps guide Cyclistic marketing strategy. You joined this team six months ago and have been busy learning about Cyclistic’s mission and business goals — as well as how you, as a junior data analyst, can help Cyclistic achieve them.\n",
    "\n",
    "* **Cyclistic executive team:** The notoriously detail-oriented executive team will decide whether to approve the recommended marketing program.\n"
   ]
  },
  {
   "cell_type": "markdown",
   "id": "96858c01",
   "metadata": {
    "papermill": {
     "duration": 0.050256,
     "end_time": "2021-12-30T12:41:07.039043",
     "exception": false,
     "start_time": "2021-12-30T12:41:06.988787",
     "status": "completed"
    },
    "tags": []
   },
   "source": [
    "# About the company:\n",
    "\n",
    "In 2016, Cyclistic launched a successful bike-share offering. Since then, the program has grown to a fleet of 5,824 bicycles that are geotracked and locked into a network of 692 stations across Chicago. The bikes can be unlocked from one station and returned to any other station in the system anytime.\n",
    "Until now, Cyclistic’s marketing strategy relied on building general awareness and appealing to broad consumer segments. One approach that helped make these things possible was the flexibility of its pricing plans: single-ride passes, full-day passes, and annual memberships. \n",
    "\n",
    "Customers who purchase single-ride or full-day passes are referred to as casual riders. Customers\n",
    "who purchase annual memberships are Cyclistic members. Cyclistic’s finance analysts have concluded that annual members are much more profitable than casual riders. Although the\n",
    "pricing flexibility helps Cyclistic attract more customers, Moreno believes that maximizing the number of annual members will be key to future growth. Rather than creating a marketing campaign that targets all-new customers, Moreno believes there is a very good chance to convert casual riders into members. She notes that casual riders are already aware of the Cyclistic program and have chosen Cyclistic for their mobility needs. \n",
    "\n",
    "Moreno has set a clear goal: Design marketing strategies aimed at converting casual riders into annual members. In order to do that, however, the marketing analyst team needs to better understand how annual members and casual riders differ, why casual riders would buy a membership, and how digital media could affect their marketing tactics. Moreno and her team are interested in analyzing the Cyclistic historical bike trip data to identify trends."
   ]
  },
  {
   "cell_type": "markdown",
   "id": "e14aac5c",
   "metadata": {
    "papermill": {
     "duration": 0.11319,
     "end_time": "2021-12-30T12:41:07.204222",
     "exception": false,
     "start_time": "2021-12-30T12:41:07.091032",
     "status": "completed"
    },
    "tags": []
   },
   "source": [
    "# Business Task:\n",
    "**Understanding the nature of bike usage between annual members & casual members and to introduce strategy to increase the number of annual memberships.**"
   ]
  },
  {
   "cell_type": "markdown",
   "id": "153125b9",
   "metadata": {
    "papermill": {
     "duration": 0.050678,
     "end_time": "2021-12-30T12:41:07.307057",
     "exception": false,
     "start_time": "2021-12-30T12:41:07.256379",
     "status": "completed"
    },
    "tags": []
   },
   "source": [
    "# Data Preparation"
   ]
  },
  {
   "cell_type": "markdown",
   "id": "3210ad7f",
   "metadata": {
    "papermill": {
     "duration": 0.053144,
     "end_time": "2021-12-30T12:41:07.413612",
     "exception": false,
     "start_time": "2021-12-30T12:41:07.360468",
     "status": "completed"
    },
    "tags": []
   },
   "source": [
    "**Import Libraries**"
   ]
  },
  {
   "cell_type": "code",
   "execution_count": 1,
   "id": "c43a28eb",
   "metadata": {
    "_cell_guid": "b1076dfc-b9ad-4769-8c92-a6c4dae69d19",
    "_uuid": "8f2839f25d086af736a60e9eeb907d3b93b6e0e5",
    "execution": {
     "iopub.execute_input": "2021-12-30T12:41:07.528434Z",
     "iopub.status.busy": "2021-12-30T12:41:07.527571Z",
     "iopub.status.idle": "2021-12-30T12:41:08.577744Z",
     "shell.execute_reply": "2021-12-30T12:41:08.576999Z",
     "shell.execute_reply.started": "2021-12-30T11:49:24.141345Z"
    },
    "papermill": {
     "duration": 1.11269,
     "end_time": "2021-12-30T12:41:08.578007",
     "exception": false,
     "start_time": "2021-12-30T12:41:07.465317",
     "status": "completed"
    },
    "tags": []
   },
   "outputs": [],
   "source": [
    "import numpy as np \n",
    "import pandas as pd\n",
    "import matplotlib.pyplot as plt\n",
    "import seaborn as sns\n",
    "%matplotlib inline"
   ]
  },
  {
   "cell_type": "markdown",
   "id": "82952313",
   "metadata": {
    "papermill": {
     "duration": 0.051255,
     "end_time": "2021-12-30T12:41:08.680379",
     "exception": false,
     "start_time": "2021-12-30T12:41:08.629124",
     "status": "completed"
    },
    "tags": []
   },
   "source": [
    "**Import Datasets**"
   ]
  },
  {
   "cell_type": "code",
   "execution_count": 2,
   "id": "91b2686f",
   "metadata": {
    "execution": {
     "iopub.execute_input": "2021-12-30T12:41:08.794290Z",
     "iopub.status.busy": "2021-12-30T12:41:08.793401Z",
     "iopub.status.idle": "2021-12-30T12:41:29.306747Z",
     "shell.execute_reply": "2021-12-30T12:41:29.306176Z",
     "shell.execute_reply.started": "2021-12-30T11:49:29.156421Z"
    },
    "papermill": {
     "duration": 20.573443,
     "end_time": "2021-12-30T12:41:29.306937",
     "exception": false,
     "start_time": "2021-12-30T12:41:08.733494",
     "status": "completed"
    },
    "tags": []
   },
   "outputs": [],
   "source": [
    "tripdata_2020_04 = pd.read_csv('../input/cyclistic/202004-divvy-tripdata/202004-divvy-tripdata.csv')\n",
    "tripdata_2020_05 = pd.read_csv('../input/cyclistic/202005-divvy-tripdata/202005-divvy-tripdata.csv')\n",
    "tripdata_2020_06 = pd.read_csv('../input/cyclistic/202006-divvy-tripdata/202006-divvy-tripdata.csv')\n",
    "tripdata_2020_07 = pd.read_csv('../input/cyclistic/202007-divvy-tripdata/202007-divvy-tripdata.csv')\n",
    "tripdata_2020_08 = pd.read_csv('../input/cyclistic/202008-divvy-tripdata/202008-divvy-tripdata.csv')\n",
    "tripdata_2020_09 = pd.read_csv('../input/cyclistic/202009-divvy-tripdata/202009-divvy-tripdata.csv')\n",
    "tripdata_2020_10 = pd.read_csv('../input/cyclistic/202010-divvy-tripdata/202010-divvy-tripdata.csv')\n",
    "tripdata_2020_11 = pd.read_csv('../input/cyclistic/202011-divvy-tripdata/202011-divvy-tripdata.csv')\n",
    "tripdata_2020_12 = pd.read_csv('../input/cyclistic/202012-divvy-tripdata/202012-divvy-tripdata.csv')\n",
    "tripdata_2021_01 = pd.read_csv('../input/cyclistic/202101-divvy-tripdata/202101-divvy-tripdata.csv')\n",
    "tripdata_2021_02 = pd.read_csv('../input/cyclistic/202102-divvy-tripdata/202102-divvy-tripdata.csv')\n",
    "tripdata_2021_03 = pd.read_csv('../input/cyclistic/202103-divvy-tripdata/202103-divvy-tripdata.csv')"
   ]
  },
  {
   "cell_type": "code",
   "execution_count": 3,
   "id": "d5d1d2b7",
   "metadata": {
    "execution": {
     "iopub.execute_input": "2021-12-30T12:41:29.418708Z",
     "iopub.status.busy": "2021-12-30T12:41:29.418013Z",
     "iopub.status.idle": "2021-12-30T12:41:29.439341Z",
     "shell.execute_reply": "2021-12-30T12:41:29.439848Z",
     "shell.execute_reply.started": "2021-12-30T11:50:47.613026Z"
    },
    "papermill": {
     "duration": 0.081628,
     "end_time": "2021-12-30T12:41:29.440032",
     "exception": false,
     "start_time": "2021-12-30T12:41:29.358404",
     "status": "completed"
    },
    "tags": []
   },
   "outputs": [
    {
     "data": {
      "text/html": [
       "<div>\n",
       "<style scoped>\n",
       "    .dataframe tbody tr th:only-of-type {\n",
       "        vertical-align: middle;\n",
       "    }\n",
       "\n",
       "    .dataframe tbody tr th {\n",
       "        vertical-align: top;\n",
       "    }\n",
       "\n",
       "    .dataframe thead th {\n",
       "        text-align: right;\n",
       "    }\n",
       "</style>\n",
       "<table border=\"1\" class=\"dataframe\">\n",
       "  <thead>\n",
       "    <tr style=\"text-align: right;\">\n",
       "      <th></th>\n",
       "      <th>ride_id</th>\n",
       "      <th>rideable_type</th>\n",
       "      <th>started_at</th>\n",
       "      <th>ended_at</th>\n",
       "      <th>start_station_name</th>\n",
       "      <th>start_station_id</th>\n",
       "      <th>end_station_name</th>\n",
       "      <th>end_station_id</th>\n",
       "      <th>start_lat</th>\n",
       "      <th>start_lng</th>\n",
       "      <th>end_lat</th>\n",
       "      <th>end_lng</th>\n",
       "      <th>member_casual</th>\n",
       "    </tr>\n",
       "  </thead>\n",
       "  <tbody>\n",
       "    <tr>\n",
       "      <th>0</th>\n",
       "      <td>A847FADBBC638E45</td>\n",
       "      <td>docked_bike</td>\n",
       "      <td>2020-04-26 17:45:14</td>\n",
       "      <td>2020-04-26 18:12:03</td>\n",
       "      <td>Eckhart Park</td>\n",
       "      <td>86</td>\n",
       "      <td>Lincoln Ave &amp; Diversey Pkwy</td>\n",
       "      <td>152.0</td>\n",
       "      <td>41.8964</td>\n",
       "      <td>-87.6610</td>\n",
       "      <td>41.9322</td>\n",
       "      <td>-87.6586</td>\n",
       "      <td>member</td>\n",
       "    </tr>\n",
       "    <tr>\n",
       "      <th>1</th>\n",
       "      <td>5405B80E996FF60D</td>\n",
       "      <td>docked_bike</td>\n",
       "      <td>2020-04-17 17:08:54</td>\n",
       "      <td>2020-04-17 17:17:03</td>\n",
       "      <td>Drake Ave &amp; Fullerton Ave</td>\n",
       "      <td>503</td>\n",
       "      <td>Kosciuszko Park</td>\n",
       "      <td>499.0</td>\n",
       "      <td>41.9244</td>\n",
       "      <td>-87.7154</td>\n",
       "      <td>41.9306</td>\n",
       "      <td>-87.7238</td>\n",
       "      <td>member</td>\n",
       "    </tr>\n",
       "  </tbody>\n",
       "</table>\n",
       "</div>"
      ],
      "text/plain": [
       "            ride_id rideable_type           started_at             ended_at  \\\n",
       "0  A847FADBBC638E45   docked_bike  2020-04-26 17:45:14  2020-04-26 18:12:03   \n",
       "1  5405B80E996FF60D   docked_bike  2020-04-17 17:08:54  2020-04-17 17:17:03   \n",
       "\n",
       "          start_station_name  start_station_id             end_station_name  \\\n",
       "0               Eckhart Park                86  Lincoln Ave & Diversey Pkwy   \n",
       "1  Drake Ave & Fullerton Ave               503              Kosciuszko Park   \n",
       "\n",
       "   end_station_id  start_lat  start_lng  end_lat  end_lng member_casual  \n",
       "0           152.0    41.8964   -87.6610  41.9322 -87.6586        member  \n",
       "1           499.0    41.9244   -87.7154  41.9306 -87.7238        member  "
      ]
     },
     "execution_count": 3,
     "metadata": {},
     "output_type": "execute_result"
    }
   ],
   "source": [
    "tripdata_2020_04.head(2)"
   ]
  },
  {
   "cell_type": "code",
   "execution_count": 4,
   "id": "ad8b46fe",
   "metadata": {
    "execution": {
     "iopub.execute_input": "2021-12-30T12:41:29.551047Z",
     "iopub.status.busy": "2021-12-30T12:41:29.549987Z",
     "iopub.status.idle": "2021-12-30T12:41:29.640616Z",
     "shell.execute_reply": "2021-12-30T12:41:29.639801Z",
     "shell.execute_reply.started": "2021-12-30T11:50:52.525725Z"
    },
    "papermill": {
     "duration": 0.149257,
     "end_time": "2021-12-30T12:41:29.641018",
     "exception": false,
     "start_time": "2021-12-30T12:41:29.491761",
     "status": "completed"
    },
    "tags": []
   },
   "outputs": [
    {
     "name": "stdout",
     "output_type": "stream",
     "text": [
      "<class 'pandas.core.frame.DataFrame'>\n",
      "RangeIndex: 84776 entries, 0 to 84775\n",
      "Data columns (total 13 columns):\n",
      " #   Column              Non-Null Count  Dtype  \n",
      "---  ------              --------------  -----  \n",
      " 0   ride_id             84776 non-null  object \n",
      " 1   rideable_type       84776 non-null  object \n",
      " 2   started_at          84776 non-null  object \n",
      " 3   ended_at            84776 non-null  object \n",
      " 4   start_station_name  84776 non-null  object \n",
      " 5   start_station_id    84776 non-null  int64  \n",
      " 6   end_station_name    84677 non-null  object \n",
      " 7   end_station_id      84677 non-null  float64\n",
      " 8   start_lat           84776 non-null  float64\n",
      " 9   start_lng           84776 non-null  float64\n",
      " 10  end_lat             84677 non-null  float64\n",
      " 11  end_lng             84677 non-null  float64\n",
      " 12  member_casual       84776 non-null  object \n",
      "dtypes: float64(5), int64(1), object(7)\n",
      "memory usage: 8.4+ MB\n"
     ]
    }
   ],
   "source": [
    "tripdata_2020_04.info()"
   ]
  },
  {
   "cell_type": "code",
   "execution_count": 5,
   "id": "c5295d20",
   "metadata": {
    "execution": {
     "iopub.execute_input": "2021-12-30T12:41:29.762640Z",
     "iopub.status.busy": "2021-12-30T12:41:29.748487Z",
     "iopub.status.idle": "2021-12-30T12:41:29.767440Z",
     "shell.execute_reply": "2021-12-30T12:41:29.766744Z",
     "shell.execute_reply.started": "2021-12-30T11:51:58.136243Z"
    },
    "papermill": {
     "duration": 0.073246,
     "end_time": "2021-12-30T12:41:29.767597",
     "exception": false,
     "start_time": "2021-12-30T12:41:29.694351",
     "status": "completed"
    },
    "tags": []
   },
   "outputs": [
    {
     "data": {
      "text/html": [
       "<div>\n",
       "<style scoped>\n",
       "    .dataframe tbody tr th:only-of-type {\n",
       "        vertical-align: middle;\n",
       "    }\n",
       "\n",
       "    .dataframe tbody tr th {\n",
       "        vertical-align: top;\n",
       "    }\n",
       "\n",
       "    .dataframe thead th {\n",
       "        text-align: right;\n",
       "    }\n",
       "</style>\n",
       "<table border=\"1\" class=\"dataframe\">\n",
       "  <thead>\n",
       "    <tr style=\"text-align: right;\">\n",
       "      <th></th>\n",
       "      <th>ride_id</th>\n",
       "      <th>rideable_type</th>\n",
       "      <th>started_at</th>\n",
       "      <th>ended_at</th>\n",
       "      <th>start_station_name</th>\n",
       "      <th>start_station_id</th>\n",
       "      <th>end_station_name</th>\n",
       "      <th>end_station_id</th>\n",
       "      <th>start_lat</th>\n",
       "      <th>start_lng</th>\n",
       "      <th>end_lat</th>\n",
       "      <th>end_lng</th>\n",
       "      <th>member_casual</th>\n",
       "    </tr>\n",
       "  </thead>\n",
       "  <tbody>\n",
       "    <tr>\n",
       "      <th>0</th>\n",
       "      <td>CFA86D4455AA1030</td>\n",
       "      <td>classic_bike</td>\n",
       "      <td>2021-03-16 08:32:30</td>\n",
       "      <td>2021-03-16 08:36:34</td>\n",
       "      <td>Humboldt Blvd &amp; Armitage Ave</td>\n",
       "      <td>15651</td>\n",
       "      <td>Stave St &amp; Armitage Ave</td>\n",
       "      <td>13266</td>\n",
       "      <td>41.917513</td>\n",
       "      <td>-87.701809</td>\n",
       "      <td>41.917741</td>\n",
       "      <td>-87.691392</td>\n",
       "      <td>casual</td>\n",
       "    </tr>\n",
       "    <tr>\n",
       "      <th>1</th>\n",
       "      <td>30D9DC61227D1AF3</td>\n",
       "      <td>classic_bike</td>\n",
       "      <td>2021-03-28 01:26:28</td>\n",
       "      <td>2021-03-28 01:36:55</td>\n",
       "      <td>Humboldt Blvd &amp; Armitage Ave</td>\n",
       "      <td>15651</td>\n",
       "      <td>Central Park Ave &amp; Bloomingdale Ave</td>\n",
       "      <td>18017</td>\n",
       "      <td>41.917513</td>\n",
       "      <td>-87.701809</td>\n",
       "      <td>41.914166</td>\n",
       "      <td>-87.716755</td>\n",
       "      <td>casual</td>\n",
       "    </tr>\n",
       "    <tr>\n",
       "      <th>2</th>\n",
       "      <td>846D87A15682A284</td>\n",
       "      <td>classic_bike</td>\n",
       "      <td>2021-03-11 21:17:29</td>\n",
       "      <td>2021-03-11 21:33:53</td>\n",
       "      <td>Shields Ave &amp; 28th Pl</td>\n",
       "      <td>15443</td>\n",
       "      <td>Halsted St &amp; 35th St</td>\n",
       "      <td>TA1308000043</td>\n",
       "      <td>41.842733</td>\n",
       "      <td>-87.635491</td>\n",
       "      <td>41.830661</td>\n",
       "      <td>-87.647172</td>\n",
       "      <td>casual</td>\n",
       "    </tr>\n",
       "  </tbody>\n",
       "</table>\n",
       "</div>"
      ],
      "text/plain": [
       "            ride_id rideable_type           started_at             ended_at  \\\n",
       "0  CFA86D4455AA1030  classic_bike  2021-03-16 08:32:30  2021-03-16 08:36:34   \n",
       "1  30D9DC61227D1AF3  classic_bike  2021-03-28 01:26:28  2021-03-28 01:36:55   \n",
       "2  846D87A15682A284  classic_bike  2021-03-11 21:17:29  2021-03-11 21:33:53   \n",
       "\n",
       "             start_station_name start_station_id  \\\n",
       "0  Humboldt Blvd & Armitage Ave            15651   \n",
       "1  Humboldt Blvd & Armitage Ave            15651   \n",
       "2         Shields Ave & 28th Pl            15443   \n",
       "\n",
       "                      end_station_name end_station_id  start_lat  start_lng  \\\n",
       "0              Stave St & Armitage Ave          13266  41.917513 -87.701809   \n",
       "1  Central Park Ave & Bloomingdale Ave          18017  41.917513 -87.701809   \n",
       "2                 Halsted St & 35th St   TA1308000043  41.842733 -87.635491   \n",
       "\n",
       "     end_lat    end_lng member_casual  \n",
       "0  41.917741 -87.691392        casual  \n",
       "1  41.914166 -87.716755        casual  \n",
       "2  41.830661 -87.647172        casual  "
      ]
     },
     "execution_count": 5,
     "metadata": {},
     "output_type": "execute_result"
    }
   ],
   "source": [
    "tripdata_2021_03.head(3)"
   ]
  },
  {
   "cell_type": "code",
   "execution_count": 6,
   "id": "7e5214ee",
   "metadata": {
    "execution": {
     "iopub.execute_input": "2021-12-30T12:41:30.097266Z",
     "iopub.status.busy": "2021-12-30T12:41:30.096517Z",
     "iopub.status.idle": "2021-12-30T12:41:30.114469Z",
     "shell.execute_reply": "2021-12-30T12:41:30.113393Z",
     "shell.execute_reply.started": "2021-12-30T11:51:13.723894Z"
    },
    "papermill": {
     "duration": 0.294566,
     "end_time": "2021-12-30T12:41:30.114697",
     "exception": false,
     "start_time": "2021-12-30T12:41:29.820131",
     "status": "completed"
    },
    "tags": []
   },
   "outputs": [
    {
     "name": "stdout",
     "output_type": "stream",
     "text": [
      "<class 'pandas.core.frame.DataFrame'>\n",
      "RangeIndex: 228496 entries, 0 to 228495\n",
      "Data columns (total 13 columns):\n",
      " #   Column              Non-Null Count   Dtype  \n",
      "---  ------              --------------   -----  \n",
      " 0   ride_id             228496 non-null  object \n",
      " 1   rideable_type       228496 non-null  object \n",
      " 2   started_at          228496 non-null  object \n",
      " 3   ended_at            228496 non-null  object \n",
      " 4   start_station_name  213648 non-null  object \n",
      " 5   start_station_id    213648 non-null  object \n",
      " 6   end_station_name    211769 non-null  object \n",
      " 7   end_station_id      211769 non-null  object \n",
      " 8   start_lat           228496 non-null  float64\n",
      " 9   start_lng           228496 non-null  float64\n",
      " 10  end_lat             228329 non-null  float64\n",
      " 11  end_lng             228329 non-null  float64\n",
      " 12  member_casual       228496 non-null  object \n",
      "dtypes: float64(4), object(9)\n",
      "memory usage: 22.7+ MB\n"
     ]
    }
   ],
   "source": [
    "tripdata_2021_03.info()"
   ]
  },
  {
   "cell_type": "markdown",
   "id": "3f5131dc",
   "metadata": {
    "papermill": {
     "duration": 0.05223,
     "end_time": "2021-12-30T12:41:30.222786",
     "exception": false,
     "start_time": "2021-12-30T12:41:30.170556",
     "status": "completed"
    },
    "tags": []
   },
   "source": [
    "In Datasets tripdata_2020_04 to tripdata_2020_11, the Data type of 'start_station_id' and 'end_station_id' is not 'object'. We need to first concat these datasets and then collectively change the data type of these columns."
   ]
  },
  {
   "cell_type": "code",
   "execution_count": 7,
   "id": "511da9d6",
   "metadata": {
    "execution": {
     "iopub.execute_input": "2021-12-30T12:41:30.335011Z",
     "iopub.status.busy": "2021-12-30T12:41:30.331735Z",
     "iopub.status.idle": "2021-12-30T12:41:31.275672Z",
     "shell.execute_reply": "2021-12-30T12:41:31.275070Z",
     "shell.execute_reply.started": "2021-12-30T11:53:45.431627Z"
    },
    "papermill": {
     "duration": 1.000506,
     "end_time": "2021-12-30T12:41:31.275852",
     "exception": false,
     "start_time": "2021-12-30T12:41:30.275346",
     "status": "completed"
    },
    "tags": []
   },
   "outputs": [],
   "source": [
    "df = pd.concat([tripdata_2020_04, tripdata_2020_05, tripdata_2020_06, tripdata_2020_07, tripdata_2020_08, tripdata_2020_09, tripdata_2020_10,tripdata_2020_11])"
   ]
  },
  {
   "cell_type": "code",
   "execution_count": 8,
   "id": "3f4e6877",
   "metadata": {
    "execution": {
     "iopub.execute_input": "2021-12-30T12:41:31.391049Z",
     "iopub.status.busy": "2021-12-30T12:41:31.390193Z",
     "iopub.status.idle": "2021-12-30T12:41:31.394159Z",
     "shell.execute_reply": "2021-12-30T12:41:31.393583Z",
     "shell.execute_reply.started": "2021-12-30T11:53:58.315745Z"
    },
    "papermill": {
     "duration": 0.066194,
     "end_time": "2021-12-30T12:41:31.394321",
     "exception": false,
     "start_time": "2021-12-30T12:41:31.328127",
     "status": "completed"
    },
    "tags": []
   },
   "outputs": [
    {
     "name": "stdout",
     "output_type": "stream",
     "text": [
      "<class 'pandas.core.frame.DataFrame'>\n",
      "Int64Index: 2983223 entries, 0 to 259715\n",
      "Data columns (total 13 columns):\n",
      " #   Column              Dtype  \n",
      "---  ------              -----  \n",
      " 0   ride_id             object \n",
      " 1   rideable_type       object \n",
      " 2   started_at          object \n",
      " 3   ended_at            object \n",
      " 4   start_station_name  object \n",
      " 5   start_station_id    float64\n",
      " 6   end_station_name    object \n",
      " 7   end_station_id      float64\n",
      " 8   start_lat           float64\n",
      " 9   start_lng           float64\n",
      " 10  end_lat             float64\n",
      " 11  end_lng             float64\n",
      " 12  member_casual       object \n",
      "dtypes: float64(6), object(7)\n",
      "memory usage: 318.6+ MB\n"
     ]
    }
   ],
   "source": [
    "df.info()"
   ]
  },
  {
   "cell_type": "code",
   "execution_count": 9,
   "id": "bb919e18",
   "metadata": {
    "execution": {
     "iopub.execute_input": "2021-12-30T12:41:31.669196Z",
     "iopub.status.busy": "2021-12-30T12:41:31.668476Z",
     "iopub.status.idle": "2021-12-30T12:41:33.862241Z",
     "shell.execute_reply": "2021-12-30T12:41:33.861586Z",
     "shell.execute_reply.started": "2021-12-30T11:54:10.211170Z"
    },
    "papermill": {
     "duration": 2.414561,
     "end_time": "2021-12-30T12:41:33.862400",
     "exception": false,
     "start_time": "2021-12-30T12:41:31.447839",
     "status": "completed"
    },
    "tags": []
   },
   "outputs": [],
   "source": [
    "df['start_station_id'] = df['start_station_id'].apply(str)\n",
    "df['end_station_id'] = df['start_station_id'].apply(str)"
   ]
  },
  {
   "cell_type": "code",
   "execution_count": 10,
   "id": "cf54343c",
   "metadata": {
    "execution": {
     "iopub.execute_input": "2021-12-30T12:41:33.971466Z",
     "iopub.status.busy": "2021-12-30T12:41:33.970706Z",
     "iopub.status.idle": "2021-12-30T12:41:33.975886Z",
     "shell.execute_reply": "2021-12-30T12:41:33.976482Z",
     "shell.execute_reply.started": "2021-12-30T11:54:15.651856Z"
    },
    "papermill": {
     "duration": 0.061823,
     "end_time": "2021-12-30T12:41:33.976658",
     "exception": false,
     "start_time": "2021-12-30T12:41:33.914835",
     "status": "completed"
    },
    "tags": []
   },
   "outputs": [
    {
     "data": {
      "text/plain": [
       "dtype('O')"
      ]
     },
     "execution_count": 10,
     "metadata": {},
     "output_type": "execute_result"
    }
   ],
   "source": [
    "df['start_station_id'].dtype\n",
    "df['end_station_id'].dtype"
   ]
  },
  {
   "cell_type": "code",
   "execution_count": 11,
   "id": "ab7f371e",
   "metadata": {
    "execution": {
     "iopub.execute_input": "2021-12-30T12:41:34.086661Z",
     "iopub.status.busy": "2021-12-30T12:41:34.085946Z",
     "iopub.status.idle": "2021-12-30T12:41:34.095710Z",
     "shell.execute_reply": "2021-12-30T12:41:34.096291Z",
     "shell.execute_reply.started": "2021-12-30T11:54:24.556104Z"
    },
    "papermill": {
     "duration": 0.06694,
     "end_time": "2021-12-30T12:41:34.096492",
     "exception": false,
     "start_time": "2021-12-30T12:41:34.029552",
     "status": "completed"
    },
    "tags": []
   },
   "outputs": [
    {
     "name": "stdout",
     "output_type": "stream",
     "text": [
      "<class 'pandas.core.frame.DataFrame'>\n",
      "Int64Index: 2983223 entries, 0 to 259715\n",
      "Data columns (total 13 columns):\n",
      " #   Column              Dtype  \n",
      "---  ------              -----  \n",
      " 0   ride_id             object \n",
      " 1   rideable_type       object \n",
      " 2   started_at          object \n",
      " 3   ended_at            object \n",
      " 4   start_station_name  object \n",
      " 5   start_station_id    object \n",
      " 6   end_station_name    object \n",
      " 7   end_station_id      object \n",
      " 8   start_lat           float64\n",
      " 9   start_lng           float64\n",
      " 10  end_lat             float64\n",
      " 11  end_lng             float64\n",
      " 12  member_casual       object \n",
      "dtypes: float64(4), object(9)\n",
      "memory usage: 318.6+ MB\n"
     ]
    }
   ],
   "source": [
    "df.info()"
   ]
  },
  {
   "cell_type": "markdown",
   "id": "b87b80a0",
   "metadata": {
    "papermill": {
     "duration": 0.053068,
     "end_time": "2021-12-30T12:41:34.203893",
     "exception": false,
     "start_time": "2021-12-30T12:41:34.150825",
     "status": "completed"
    },
    "tags": []
   },
   "source": [
    "Now, let's concat all the datasets into one single dataset."
   ]
  },
  {
   "cell_type": "code",
   "execution_count": 12,
   "id": "4f4694a7",
   "metadata": {
    "execution": {
     "iopub.execute_input": "2021-12-30T12:41:34.318265Z",
     "iopub.status.busy": "2021-12-30T12:41:34.317194Z",
     "iopub.status.idle": "2021-12-30T12:41:35.063611Z",
     "shell.execute_reply": "2021-12-30T12:41:35.062873Z",
     "shell.execute_reply.started": "2021-12-30T11:54:38.971853Z"
    },
    "papermill": {
     "duration": 0.80638,
     "end_time": "2021-12-30T12:41:35.063780",
     "exception": false,
     "start_time": "2021-12-30T12:41:34.257400",
     "status": "completed"
    },
    "tags": []
   },
   "outputs": [],
   "source": [
    "bike_share = pd.concat([df, tripdata_2020_12, tripdata_2021_01, tripdata_2021_02, tripdata_2021_03])"
   ]
  },
  {
   "cell_type": "code",
   "execution_count": 13,
   "id": "87db392f",
   "metadata": {
    "execution": {
     "iopub.execute_input": "2021-12-30T12:41:35.175322Z",
     "iopub.status.busy": "2021-12-30T12:41:35.174571Z",
     "iopub.status.idle": "2021-12-30T12:41:35.191160Z",
     "shell.execute_reply": "2021-12-30T12:41:35.191658Z",
     "shell.execute_reply.started": "2021-12-30T11:55:11.917055Z"
    },
    "papermill": {
     "duration": 0.073759,
     "end_time": "2021-12-30T12:41:35.191839",
     "exception": false,
     "start_time": "2021-12-30T12:41:35.118080",
     "status": "completed"
    },
    "tags": []
   },
   "outputs": [
    {
     "data": {
      "text/html": [
       "<div>\n",
       "<style scoped>\n",
       "    .dataframe tbody tr th:only-of-type {\n",
       "        vertical-align: middle;\n",
       "    }\n",
       "\n",
       "    .dataframe tbody tr th {\n",
       "        vertical-align: top;\n",
       "    }\n",
       "\n",
       "    .dataframe thead th {\n",
       "        text-align: right;\n",
       "    }\n",
       "</style>\n",
       "<table border=\"1\" class=\"dataframe\">\n",
       "  <thead>\n",
       "    <tr style=\"text-align: right;\">\n",
       "      <th></th>\n",
       "      <th>ride_id</th>\n",
       "      <th>rideable_type</th>\n",
       "      <th>started_at</th>\n",
       "      <th>ended_at</th>\n",
       "      <th>start_station_name</th>\n",
       "      <th>start_station_id</th>\n",
       "      <th>end_station_name</th>\n",
       "      <th>end_station_id</th>\n",
       "      <th>start_lat</th>\n",
       "      <th>start_lng</th>\n",
       "      <th>end_lat</th>\n",
       "      <th>end_lng</th>\n",
       "      <th>member_casual</th>\n",
       "    </tr>\n",
       "  </thead>\n",
       "  <tbody>\n",
       "    <tr>\n",
       "      <th>0</th>\n",
       "      <td>A847FADBBC638E45</td>\n",
       "      <td>docked_bike</td>\n",
       "      <td>2020-04-26 17:45:14</td>\n",
       "      <td>2020-04-26 18:12:03</td>\n",
       "      <td>Eckhart Park</td>\n",
       "      <td>86.0</td>\n",
       "      <td>Lincoln Ave &amp; Diversey Pkwy</td>\n",
       "      <td>86.0</td>\n",
       "      <td>41.8964</td>\n",
       "      <td>-87.6610</td>\n",
       "      <td>41.9322</td>\n",
       "      <td>-87.6586</td>\n",
       "      <td>member</td>\n",
       "    </tr>\n",
       "    <tr>\n",
       "      <th>1</th>\n",
       "      <td>5405B80E996FF60D</td>\n",
       "      <td>docked_bike</td>\n",
       "      <td>2020-04-17 17:08:54</td>\n",
       "      <td>2020-04-17 17:17:03</td>\n",
       "      <td>Drake Ave &amp; Fullerton Ave</td>\n",
       "      <td>503.0</td>\n",
       "      <td>Kosciuszko Park</td>\n",
       "      <td>503.0</td>\n",
       "      <td>41.9244</td>\n",
       "      <td>-87.7154</td>\n",
       "      <td>41.9306</td>\n",
       "      <td>-87.7238</td>\n",
       "      <td>member</td>\n",
       "    </tr>\n",
       "    <tr>\n",
       "      <th>2</th>\n",
       "      <td>5DD24A79A4E006F4</td>\n",
       "      <td>docked_bike</td>\n",
       "      <td>2020-04-01 17:54:13</td>\n",
       "      <td>2020-04-01 18:08:36</td>\n",
       "      <td>McClurg Ct &amp; Erie St</td>\n",
       "      <td>142.0</td>\n",
       "      <td>Indiana Ave &amp; Roosevelt Rd</td>\n",
       "      <td>142.0</td>\n",
       "      <td>41.8945</td>\n",
       "      <td>-87.6179</td>\n",
       "      <td>41.8679</td>\n",
       "      <td>-87.6230</td>\n",
       "      <td>member</td>\n",
       "    </tr>\n",
       "    <tr>\n",
       "      <th>3</th>\n",
       "      <td>2A59BBDF5CDBA725</td>\n",
       "      <td>docked_bike</td>\n",
       "      <td>2020-04-07 12:50:19</td>\n",
       "      <td>2020-04-07 13:02:31</td>\n",
       "      <td>California Ave &amp; Division St</td>\n",
       "      <td>216.0</td>\n",
       "      <td>Wood St &amp; Augusta Blvd</td>\n",
       "      <td>216.0</td>\n",
       "      <td>41.9030</td>\n",
       "      <td>-87.6975</td>\n",
       "      <td>41.8992</td>\n",
       "      <td>-87.6722</td>\n",
       "      <td>member</td>\n",
       "    </tr>\n",
       "    <tr>\n",
       "      <th>4</th>\n",
       "      <td>27AD306C119C6158</td>\n",
       "      <td>docked_bike</td>\n",
       "      <td>2020-04-18 10:22:59</td>\n",
       "      <td>2020-04-18 11:15:54</td>\n",
       "      <td>Rush St &amp; Hubbard St</td>\n",
       "      <td>125.0</td>\n",
       "      <td>Sheridan Rd &amp; Lawrence Ave</td>\n",
       "      <td>125.0</td>\n",
       "      <td>41.8902</td>\n",
       "      <td>-87.6262</td>\n",
       "      <td>41.9695</td>\n",
       "      <td>-87.6547</td>\n",
       "      <td>casual</td>\n",
       "    </tr>\n",
       "  </tbody>\n",
       "</table>\n",
       "</div>"
      ],
      "text/plain": [
       "            ride_id rideable_type           started_at             ended_at  \\\n",
       "0  A847FADBBC638E45   docked_bike  2020-04-26 17:45:14  2020-04-26 18:12:03   \n",
       "1  5405B80E996FF60D   docked_bike  2020-04-17 17:08:54  2020-04-17 17:17:03   \n",
       "2  5DD24A79A4E006F4   docked_bike  2020-04-01 17:54:13  2020-04-01 18:08:36   \n",
       "3  2A59BBDF5CDBA725   docked_bike  2020-04-07 12:50:19  2020-04-07 13:02:31   \n",
       "4  27AD306C119C6158   docked_bike  2020-04-18 10:22:59  2020-04-18 11:15:54   \n",
       "\n",
       "             start_station_name start_station_id             end_station_name  \\\n",
       "0                  Eckhart Park             86.0  Lincoln Ave & Diversey Pkwy   \n",
       "1     Drake Ave & Fullerton Ave            503.0              Kosciuszko Park   \n",
       "2          McClurg Ct & Erie St            142.0   Indiana Ave & Roosevelt Rd   \n",
       "3  California Ave & Division St            216.0       Wood St & Augusta Blvd   \n",
       "4          Rush St & Hubbard St            125.0   Sheridan Rd & Lawrence Ave   \n",
       "\n",
       "  end_station_id  start_lat  start_lng  end_lat  end_lng member_casual  \n",
       "0           86.0    41.8964   -87.6610  41.9322 -87.6586        member  \n",
       "1          503.0    41.9244   -87.7154  41.9306 -87.7238        member  \n",
       "2          142.0    41.8945   -87.6179  41.8679 -87.6230        member  \n",
       "3          216.0    41.9030   -87.6975  41.8992 -87.6722        member  \n",
       "4          125.0    41.8902   -87.6262  41.9695 -87.6547        casual  "
      ]
     },
     "execution_count": 13,
     "metadata": {},
     "output_type": "execute_result"
    }
   ],
   "source": [
    "bike_share.head()"
   ]
  },
  {
   "cell_type": "code",
   "execution_count": 14,
   "id": "6df6dc34",
   "metadata": {
    "execution": {
     "iopub.execute_input": "2021-12-30T12:41:35.303009Z",
     "iopub.status.busy": "2021-12-30T12:41:35.302379Z",
     "iopub.status.idle": "2021-12-30T12:41:35.312677Z",
     "shell.execute_reply": "2021-12-30T12:41:35.313287Z",
     "shell.execute_reply.started": "2021-12-30T11:55:26.381024Z"
    },
    "papermill": {
     "duration": 0.067515,
     "end_time": "2021-12-30T12:41:35.313467",
     "exception": false,
     "start_time": "2021-12-30T12:41:35.245952",
     "status": "completed"
    },
    "tags": []
   },
   "outputs": [
    {
     "name": "stdout",
     "output_type": "stream",
     "text": [
      "<class 'pandas.core.frame.DataFrame'>\n",
      "Int64Index: 3489748 entries, 0 to 228495\n",
      "Data columns (total 13 columns):\n",
      " #   Column              Dtype  \n",
      "---  ------              -----  \n",
      " 0   ride_id             object \n",
      " 1   rideable_type       object \n",
      " 2   started_at          object \n",
      " 3   ended_at            object \n",
      " 4   start_station_name  object \n",
      " 5   start_station_id    object \n",
      " 6   end_station_name    object \n",
      " 7   end_station_id      object \n",
      " 8   start_lat           float64\n",
      " 9   start_lng           float64\n",
      " 10  end_lat             float64\n",
      " 11  end_lng             float64\n",
      " 12  member_casual       object \n",
      "dtypes: float64(4), object(9)\n",
      "memory usage: 372.7+ MB\n"
     ]
    }
   ],
   "source": [
    "bike_share.info()"
   ]
  },
  {
   "cell_type": "markdown",
   "id": "b25fb2d4",
   "metadata": {
    "papermill": {
     "duration": 0.054265,
     "end_time": "2021-12-30T12:41:35.421950",
     "exception": false,
     "start_time": "2021-12-30T12:41:35.367685",
     "status": "completed"
    },
    "tags": []
   },
   "source": [
    "# Data Processing"
   ]
  },
  {
   "cell_type": "markdown",
   "id": "a60c94a1",
   "metadata": {
    "papermill": {
     "duration": 0.055016,
     "end_time": "2021-12-30T12:41:35.531150",
     "exception": false,
     "start_time": "2021-12-30T12:41:35.476134",
     "status": "completed"
    },
    "tags": []
   },
   "source": [
    "We will look for the null values and duplicates in the dataset to remove them."
   ]
  },
  {
   "cell_type": "code",
   "execution_count": 15,
   "id": "e737f680",
   "metadata": {
    "execution": {
     "iopub.execute_input": "2021-12-30T12:41:35.644658Z",
     "iopub.status.busy": "2021-12-30T12:41:35.643632Z",
     "iopub.status.idle": "2021-12-30T12:41:39.123377Z",
     "shell.execute_reply": "2021-12-30T12:41:39.122745Z",
     "shell.execute_reply.started": "2021-12-30T12:00:25.641629Z"
    },
    "papermill": {
     "duration": 3.537393,
     "end_time": "2021-12-30T12:41:39.123530",
     "exception": false,
     "start_time": "2021-12-30T12:41:35.586137",
     "status": "completed"
    },
    "tags": []
   },
   "outputs": [
    {
     "data": {
      "text/plain": [
       "ride_id                    0\n",
       "rideable_type              0\n",
       "started_at                 0\n",
       "ended_at                   0\n",
       "start_station_name    122175\n",
       "start_station_id       39218\n",
       "end_station_name      143242\n",
       "end_station_id         45599\n",
       "start_lat                  0\n",
       "start_lng                  0\n",
       "end_lat                 4738\n",
       "end_lng                 4738\n",
       "member_casual              0\n",
       "dtype: int64"
      ]
     },
     "execution_count": 15,
     "metadata": {},
     "output_type": "execute_result"
    }
   ],
   "source": [
    "bike_share.isna().sum()"
   ]
  },
  {
   "cell_type": "code",
   "execution_count": 16,
   "id": "50f2bc23",
   "metadata": {
    "execution": {
     "iopub.execute_input": "2021-12-30T12:41:39.240737Z",
     "iopub.status.busy": "2021-12-30T12:41:39.240034Z",
     "iopub.status.idle": "2021-12-30T12:41:39.242594Z",
     "shell.execute_reply": "2021-12-30T12:41:39.243114Z",
     "shell.execute_reply.started": "2021-12-30T11:57:56.926546Z"
    },
    "papermill": {
     "duration": 0.063187,
     "end_time": "2021-12-30T12:41:39.243282",
     "exception": false,
     "start_time": "2021-12-30T12:41:39.180095",
     "status": "completed"
    },
    "tags": []
   },
   "outputs": [
    {
     "data": {
      "text/plain": [
       "(3489748, 13)"
      ]
     },
     "execution_count": 16,
     "metadata": {},
     "output_type": "execute_result"
    }
   ],
   "source": [
    "bike_share.shape"
   ]
  },
  {
   "cell_type": "code",
   "execution_count": 17,
   "id": "5010a6e3",
   "metadata": {
    "execution": {
     "iopub.execute_input": "2021-12-30T12:41:39.384176Z",
     "iopub.status.busy": "2021-12-30T12:41:39.383077Z",
     "iopub.status.idle": "2021-12-30T12:41:42.831756Z",
     "shell.execute_reply": "2021-12-30T12:41:42.831224Z",
     "shell.execute_reply.started": "2021-12-30T11:59:06.087587Z"
    },
    "papermill": {
     "duration": 3.527809,
     "end_time": "2021-12-30T12:41:42.831901",
     "exception": false,
     "start_time": "2021-12-30T12:41:39.304092",
     "status": "completed"
    },
    "tags": []
   },
   "outputs": [
    {
     "data": {
      "text/plain": [
       "ride_id               0.000000\n",
       "rideable_type         0.000000\n",
       "started_at            0.000000\n",
       "ended_at              0.000000\n",
       "start_station_name    3.500969\n",
       "start_station_id      1.123806\n",
       "end_station_name      4.104652\n",
       "end_station_id        1.306656\n",
       "start_lat             0.000000\n",
       "start_lng             0.000000\n",
       "end_lat               0.135769\n",
       "end_lng               0.135769\n",
       "member_casual         0.000000\n",
       "dtype: float64"
      ]
     },
     "execution_count": 17,
     "metadata": {},
     "output_type": "execute_result"
    }
   ],
   "source": [
    "(bike_share.isna().sum()/3489748) * 100"
   ]
  },
  {
   "cell_type": "markdown",
   "id": "a9549b12",
   "metadata": {
    "papermill": {
     "duration": 0.055907,
     "end_time": "2021-12-30T12:41:42.943617",
     "exception": false,
     "start_time": "2021-12-30T12:41:42.887710",
     "status": "completed"
    },
    "tags": []
   },
   "source": [
    "The missing values are less than 5%. We can remove them and continue with our analysis."
   ]
  },
  {
   "cell_type": "code",
   "execution_count": 18,
   "id": "07c9a281",
   "metadata": {
    "execution": {
     "iopub.execute_input": "2021-12-30T12:41:44.946102Z",
     "iopub.status.busy": "2021-12-30T12:41:44.945374Z",
     "iopub.status.idle": "2021-12-30T12:41:48.369275Z",
     "shell.execute_reply": "2021-12-30T12:41:48.369875Z",
     "shell.execute_reply.started": "2021-12-30T12:02:43.143472Z"
    },
    "papermill": {
     "duration": 5.368491,
     "end_time": "2021-12-30T12:41:48.370076",
     "exception": false,
     "start_time": "2021-12-30T12:41:43.001585",
     "status": "completed"
    },
    "tags": []
   },
   "outputs": [],
   "source": [
    "bike_share.dropna(axis=0, inplace=True)"
   ]
  },
  {
   "cell_type": "code",
   "execution_count": 19,
   "id": "f7b51aba",
   "metadata": {
    "execution": {
     "iopub.execute_input": "2021-12-30T12:41:48.486120Z",
     "iopub.status.busy": "2021-12-30T12:41:48.485389Z",
     "iopub.status.idle": "2021-12-30T12:41:51.776751Z",
     "shell.execute_reply": "2021-12-30T12:41:51.777288Z",
     "shell.execute_reply.started": "2021-12-30T12:03:04.178659Z"
    },
    "papermill": {
     "duration": 3.351698,
     "end_time": "2021-12-30T12:41:51.777473",
     "exception": false,
     "start_time": "2021-12-30T12:41:48.425775",
     "status": "completed"
    },
    "tags": []
   },
   "outputs": [
    {
     "data": {
      "text/plain": [
       "ride_id               0\n",
       "rideable_type         0\n",
       "started_at            0\n",
       "ended_at              0\n",
       "start_station_name    0\n",
       "start_station_id      0\n",
       "end_station_name      0\n",
       "end_station_id        0\n",
       "start_lat             0\n",
       "start_lng             0\n",
       "end_lat               0\n",
       "end_lng               0\n",
       "member_casual         0\n",
       "dtype: int64"
      ]
     },
     "execution_count": 19,
     "metadata": {},
     "output_type": "execute_result"
    }
   ],
   "source": [
    "bike_share.isna().sum()"
   ]
  },
  {
   "cell_type": "code",
   "execution_count": 20,
   "id": "7dc2bae5",
   "metadata": {
    "execution": {
     "iopub.execute_input": "2021-12-30T12:41:51.894141Z",
     "iopub.status.busy": "2021-12-30T12:41:51.893151Z",
     "iopub.status.idle": "2021-12-30T12:42:03.383500Z",
     "shell.execute_reply": "2021-12-30T12:42:03.384059Z",
     "shell.execute_reply.started": "2021-12-30T12:03:13.727319Z"
    },
    "papermill": {
     "duration": 11.550538,
     "end_time": "2021-12-30T12:42:03.384261",
     "exception": false,
     "start_time": "2021-12-30T12:41:51.833723",
     "status": "completed"
    },
    "tags": []
   },
   "outputs": [
    {
     "data": {
      "text/html": [
       "<div>\n",
       "<style scoped>\n",
       "    .dataframe tbody tr th:only-of-type {\n",
       "        vertical-align: middle;\n",
       "    }\n",
       "\n",
       "    .dataframe tbody tr th {\n",
       "        vertical-align: top;\n",
       "    }\n",
       "\n",
       "    .dataframe thead th {\n",
       "        text-align: right;\n",
       "    }\n",
       "</style>\n",
       "<table border=\"1\" class=\"dataframe\">\n",
       "  <thead>\n",
       "    <tr style=\"text-align: right;\">\n",
       "      <th></th>\n",
       "      <th>ride_id</th>\n",
       "      <th>rideable_type</th>\n",
       "      <th>started_at</th>\n",
       "      <th>ended_at</th>\n",
       "      <th>start_station_name</th>\n",
       "      <th>start_station_id</th>\n",
       "      <th>end_station_name</th>\n",
       "      <th>end_station_id</th>\n",
       "      <th>start_lat</th>\n",
       "      <th>start_lng</th>\n",
       "      <th>end_lat</th>\n",
       "      <th>end_lng</th>\n",
       "      <th>member_casual</th>\n",
       "    </tr>\n",
       "  </thead>\n",
       "  <tbody>\n",
       "  </tbody>\n",
       "</table>\n",
       "</div>"
      ],
      "text/plain": [
       "Empty DataFrame\n",
       "Columns: [ride_id, rideable_type, started_at, ended_at, start_station_name, start_station_id, end_station_name, end_station_id, start_lat, start_lng, end_lat, end_lng, member_casual]\n",
       "Index: []"
      ]
     },
     "execution_count": 20,
     "metadata": {},
     "output_type": "execute_result"
    }
   ],
   "source": [
    "bike_share[bike_share.duplicated()]"
   ]
  },
  {
   "cell_type": "markdown",
   "id": "b15f77ac",
   "metadata": {
    "papermill": {
     "duration": 0.05639,
     "end_time": "2021-12-30T12:42:03.497594",
     "exception": false,
     "start_time": "2021-12-30T12:42:03.441204",
     "status": "completed"
    },
    "tags": []
   },
   "source": [
    "Let's convert columns 'started_at' and 'ended_at' to 'datetime' Datatype."
   ]
  },
  {
   "cell_type": "code",
   "execution_count": 21,
   "id": "c4a752e7",
   "metadata": {
    "execution": {
     "iopub.execute_input": "2021-12-30T12:42:03.613269Z",
     "iopub.status.busy": "2021-12-30T12:42:03.612507Z",
     "iopub.status.idle": "2021-12-30T12:42:06.818825Z",
     "shell.execute_reply": "2021-12-30T12:42:06.819358Z",
     "shell.execute_reply.started": "2021-12-30T12:03:54.327393Z"
    },
    "papermill": {
     "duration": 3.265992,
     "end_time": "2021-12-30T12:42:06.819566",
     "exception": false,
     "start_time": "2021-12-30T12:42:03.553574",
     "status": "completed"
    },
    "tags": []
   },
   "outputs": [],
   "source": [
    "bike_share['started_at'] = pd.to_datetime(bike_share['started_at'], dayfirst = True)\n",
    "bike_share['ended_at'] = pd.to_datetime(bike_share['ended_at'], dayfirst = True)"
   ]
  },
  {
   "cell_type": "code",
   "execution_count": 22,
   "id": "3af87a18",
   "metadata": {
    "execution": {
     "iopub.execute_input": "2021-12-30T12:42:06.937944Z",
     "iopub.status.busy": "2021-12-30T12:42:06.937242Z",
     "iopub.status.idle": "2021-12-30T12:42:06.950335Z",
     "shell.execute_reply": "2021-12-30T12:42:06.949144Z",
     "shell.execute_reply.started": "2021-12-30T12:03:59.861660Z"
    },
    "papermill": {
     "duration": 0.073875,
     "end_time": "2021-12-30T12:42:06.950510",
     "exception": false,
     "start_time": "2021-12-30T12:42:06.876635",
     "status": "completed"
    },
    "tags": []
   },
   "outputs": [
    {
     "name": "stdout",
     "output_type": "stream",
     "text": [
      "<class 'pandas.core.frame.DataFrame'>\n",
      "Int64Index: 3295563 entries, 0 to 228494\n",
      "Data columns (total 13 columns):\n",
      " #   Column              Dtype         \n",
      "---  ------              -----         \n",
      " 0   ride_id             object        \n",
      " 1   rideable_type       object        \n",
      " 2   started_at          datetime64[ns]\n",
      " 3   ended_at            datetime64[ns]\n",
      " 4   start_station_name  object        \n",
      " 5   start_station_id    object        \n",
      " 6   end_station_name    object        \n",
      " 7   end_station_id      object        \n",
      " 8   start_lat           float64       \n",
      " 9   start_lng           float64       \n",
      " 10  end_lat             float64       \n",
      " 11  end_lng             float64       \n",
      " 12  member_casual       object        \n",
      "dtypes: datetime64[ns](2), float64(4), object(7)\n",
      "memory usage: 352.0+ MB\n"
     ]
    }
   ],
   "source": [
    "bike_share.info()"
   ]
  },
  {
   "cell_type": "markdown",
   "id": "30dca24c",
   "metadata": {
    "papermill": {
     "duration": 0.056092,
     "end_time": "2021-12-30T12:42:07.064863",
     "exception": false,
     "start_time": "2021-12-30T12:42:07.008771",
     "status": "completed"
    },
    "tags": []
   },
   "source": [
    "Now, we will start creating new columns for 'Hour', 'Day' and 'Month'."
   ]
  },
  {
   "cell_type": "code",
   "execution_count": 23,
   "id": "042338c6",
   "metadata": {
    "execution": {
     "iopub.execute_input": "2021-12-30T12:42:07.183301Z",
     "iopub.status.busy": "2021-12-30T12:42:07.182590Z",
     "iopub.status.idle": "2021-12-30T12:42:29.835842Z",
     "shell.execute_reply": "2021-12-30T12:42:29.836765Z",
     "shell.execute_reply.started": "2021-12-30T12:07:25.862005Z"
    },
    "papermill": {
     "duration": 22.716114,
     "end_time": "2021-12-30T12:42:29.837299",
     "exception": false,
     "start_time": "2021-12-30T12:42:07.121185",
     "status": "completed"
    },
    "tags": []
   },
   "outputs": [],
   "source": [
    "bike_share['Hour'] = bike_share.started_at.apply(lambda x: x.hour)"
   ]
  },
  {
   "cell_type": "code",
   "execution_count": 24,
   "id": "88c00caa",
   "metadata": {
    "execution": {
     "iopub.execute_input": "2021-12-30T12:42:30.021352Z",
     "iopub.status.busy": "2021-12-30T12:42:29.984651Z",
     "iopub.status.idle": "2021-12-30T12:43:29.640472Z",
     "shell.execute_reply": "2021-12-30T12:43:29.639832Z",
     "shell.execute_reply.started": "2021-12-30T12:09:43.898613Z"
    },
    "papermill": {
     "duration": 59.740922,
     "end_time": "2021-12-30T12:43:29.640647",
     "exception": false,
     "start_time": "2021-12-30T12:42:29.899725",
     "status": "completed"
    },
    "tags": []
   },
   "outputs": [],
   "source": [
    "bike_share['Day'] = bike_share.started_at.apply(lambda x: x.day_name())  "
   ]
  },
  {
   "cell_type": "code",
   "execution_count": 25,
   "id": "62be7132",
   "metadata": {
    "execution": {
     "iopub.execute_input": "2021-12-30T12:43:29.757043Z",
     "iopub.status.busy": "2021-12-30T12:43:29.756275Z",
     "iopub.status.idle": "2021-12-30T12:43:50.753157Z",
     "shell.execute_reply": "2021-12-30T12:43:50.752323Z",
     "shell.execute_reply.started": "2021-12-30T12:10:58.027643Z"
    },
    "papermill": {
     "duration": 21.056245,
     "end_time": "2021-12-30T12:43:50.753330",
     "exception": false,
     "start_time": "2021-12-30T12:43:29.697085",
     "status": "completed"
    },
    "tags": []
   },
   "outputs": [],
   "source": [
    "bike_share['Month'] = bike_share.started_at.apply(lambda x: x.month)"
   ]
  },
  {
   "cell_type": "code",
   "execution_count": 26,
   "id": "92d31fe1",
   "metadata": {
    "execution": {
     "iopub.execute_input": "2021-12-30T12:43:50.876077Z",
     "iopub.status.busy": "2021-12-30T12:43:50.875342Z",
     "iopub.status.idle": "2021-12-30T12:43:50.892016Z",
     "shell.execute_reply": "2021-12-30T12:43:50.892550Z",
     "shell.execute_reply.started": "2021-12-30T12:11:44.098788Z"
    },
    "papermill": {
     "duration": 0.081606,
     "end_time": "2021-12-30T12:43:50.892733",
     "exception": false,
     "start_time": "2021-12-30T12:43:50.811127",
     "status": "completed"
    },
    "tags": []
   },
   "outputs": [
    {
     "data": {
      "text/html": [
       "<div>\n",
       "<style scoped>\n",
       "    .dataframe tbody tr th:only-of-type {\n",
       "        vertical-align: middle;\n",
       "    }\n",
       "\n",
       "    .dataframe tbody tr th {\n",
       "        vertical-align: top;\n",
       "    }\n",
       "\n",
       "    .dataframe thead th {\n",
       "        text-align: right;\n",
       "    }\n",
       "</style>\n",
       "<table border=\"1\" class=\"dataframe\">\n",
       "  <thead>\n",
       "    <tr style=\"text-align: right;\">\n",
       "      <th></th>\n",
       "      <th>ride_id</th>\n",
       "      <th>rideable_type</th>\n",
       "      <th>started_at</th>\n",
       "      <th>ended_at</th>\n",
       "      <th>start_station_name</th>\n",
       "      <th>start_station_id</th>\n",
       "      <th>end_station_name</th>\n",
       "      <th>end_station_id</th>\n",
       "      <th>start_lat</th>\n",
       "      <th>start_lng</th>\n",
       "      <th>end_lat</th>\n",
       "      <th>end_lng</th>\n",
       "      <th>member_casual</th>\n",
       "      <th>Hour</th>\n",
       "      <th>Day</th>\n",
       "      <th>Month</th>\n",
       "    </tr>\n",
       "  </thead>\n",
       "  <tbody>\n",
       "    <tr>\n",
       "      <th>0</th>\n",
       "      <td>A847FADBBC638E45</td>\n",
       "      <td>docked_bike</td>\n",
       "      <td>2020-04-26 17:45:14</td>\n",
       "      <td>2020-04-26 18:12:03</td>\n",
       "      <td>Eckhart Park</td>\n",
       "      <td>86.0</td>\n",
       "      <td>Lincoln Ave &amp; Diversey Pkwy</td>\n",
       "      <td>86.0</td>\n",
       "      <td>41.8964</td>\n",
       "      <td>-87.6610</td>\n",
       "      <td>41.9322</td>\n",
       "      <td>-87.6586</td>\n",
       "      <td>member</td>\n",
       "      <td>17</td>\n",
       "      <td>Sunday</td>\n",
       "      <td>4</td>\n",
       "    </tr>\n",
       "    <tr>\n",
       "      <th>1</th>\n",
       "      <td>5405B80E996FF60D</td>\n",
       "      <td>docked_bike</td>\n",
       "      <td>2020-04-17 17:08:54</td>\n",
       "      <td>2020-04-17 17:17:03</td>\n",
       "      <td>Drake Ave &amp; Fullerton Ave</td>\n",
       "      <td>503.0</td>\n",
       "      <td>Kosciuszko Park</td>\n",
       "      <td>503.0</td>\n",
       "      <td>41.9244</td>\n",
       "      <td>-87.7154</td>\n",
       "      <td>41.9306</td>\n",
       "      <td>-87.7238</td>\n",
       "      <td>member</td>\n",
       "      <td>17</td>\n",
       "      <td>Friday</td>\n",
       "      <td>4</td>\n",
       "    </tr>\n",
       "    <tr>\n",
       "      <th>2</th>\n",
       "      <td>5DD24A79A4E006F4</td>\n",
       "      <td>docked_bike</td>\n",
       "      <td>2020-04-01 17:54:13</td>\n",
       "      <td>2020-04-01 18:08:36</td>\n",
       "      <td>McClurg Ct &amp; Erie St</td>\n",
       "      <td>142.0</td>\n",
       "      <td>Indiana Ave &amp; Roosevelt Rd</td>\n",
       "      <td>142.0</td>\n",
       "      <td>41.8945</td>\n",
       "      <td>-87.6179</td>\n",
       "      <td>41.8679</td>\n",
       "      <td>-87.6230</td>\n",
       "      <td>member</td>\n",
       "      <td>17</td>\n",
       "      <td>Wednesday</td>\n",
       "      <td>4</td>\n",
       "    </tr>\n",
       "    <tr>\n",
       "      <th>3</th>\n",
       "      <td>2A59BBDF5CDBA725</td>\n",
       "      <td>docked_bike</td>\n",
       "      <td>2020-04-07 12:50:19</td>\n",
       "      <td>2020-04-07 13:02:31</td>\n",
       "      <td>California Ave &amp; Division St</td>\n",
       "      <td>216.0</td>\n",
       "      <td>Wood St &amp; Augusta Blvd</td>\n",
       "      <td>216.0</td>\n",
       "      <td>41.9030</td>\n",
       "      <td>-87.6975</td>\n",
       "      <td>41.8992</td>\n",
       "      <td>-87.6722</td>\n",
       "      <td>member</td>\n",
       "      <td>12</td>\n",
       "      <td>Tuesday</td>\n",
       "      <td>4</td>\n",
       "    </tr>\n",
       "    <tr>\n",
       "      <th>4</th>\n",
       "      <td>27AD306C119C6158</td>\n",
       "      <td>docked_bike</td>\n",
       "      <td>2020-04-18 10:22:59</td>\n",
       "      <td>2020-04-18 11:15:54</td>\n",
       "      <td>Rush St &amp; Hubbard St</td>\n",
       "      <td>125.0</td>\n",
       "      <td>Sheridan Rd &amp; Lawrence Ave</td>\n",
       "      <td>125.0</td>\n",
       "      <td>41.8902</td>\n",
       "      <td>-87.6262</td>\n",
       "      <td>41.9695</td>\n",
       "      <td>-87.6547</td>\n",
       "      <td>casual</td>\n",
       "      <td>10</td>\n",
       "      <td>Saturday</td>\n",
       "      <td>4</td>\n",
       "    </tr>\n",
       "  </tbody>\n",
       "</table>\n",
       "</div>"
      ],
      "text/plain": [
       "            ride_id rideable_type          started_at            ended_at  \\\n",
       "0  A847FADBBC638E45   docked_bike 2020-04-26 17:45:14 2020-04-26 18:12:03   \n",
       "1  5405B80E996FF60D   docked_bike 2020-04-17 17:08:54 2020-04-17 17:17:03   \n",
       "2  5DD24A79A4E006F4   docked_bike 2020-04-01 17:54:13 2020-04-01 18:08:36   \n",
       "3  2A59BBDF5CDBA725   docked_bike 2020-04-07 12:50:19 2020-04-07 13:02:31   \n",
       "4  27AD306C119C6158   docked_bike 2020-04-18 10:22:59 2020-04-18 11:15:54   \n",
       "\n",
       "             start_station_name start_station_id             end_station_name  \\\n",
       "0                  Eckhart Park             86.0  Lincoln Ave & Diversey Pkwy   \n",
       "1     Drake Ave & Fullerton Ave            503.0              Kosciuszko Park   \n",
       "2          McClurg Ct & Erie St            142.0   Indiana Ave & Roosevelt Rd   \n",
       "3  California Ave & Division St            216.0       Wood St & Augusta Blvd   \n",
       "4          Rush St & Hubbard St            125.0   Sheridan Rd & Lawrence Ave   \n",
       "\n",
       "  end_station_id  start_lat  start_lng  end_lat  end_lng member_casual  Hour  \\\n",
       "0           86.0    41.8964   -87.6610  41.9322 -87.6586        member    17   \n",
       "1          503.0    41.9244   -87.7154  41.9306 -87.7238        member    17   \n",
       "2          142.0    41.8945   -87.6179  41.8679 -87.6230        member    17   \n",
       "3          216.0    41.9030   -87.6975  41.8992 -87.6722        member    12   \n",
       "4          125.0    41.8902   -87.6262  41.9695 -87.6547        casual    10   \n",
       "\n",
       "         Day  Month  \n",
       "0     Sunday      4  \n",
       "1     Friday      4  \n",
       "2  Wednesday      4  \n",
       "3    Tuesday      4  \n",
       "4   Saturday      4  "
      ]
     },
     "execution_count": 26,
     "metadata": {},
     "output_type": "execute_result"
    }
   ],
   "source": [
    "bike_share.head()"
   ]
  },
  {
   "cell_type": "markdown",
   "id": "aaa90413",
   "metadata": {
    "papermill": {
     "duration": 0.057537,
     "end_time": "2021-12-30T12:43:51.008581",
     "exception": false,
     "start_time": "2021-12-30T12:43:50.951044",
     "status": "completed"
    },
    "tags": []
   },
   "source": [
    "Let's calculate 'Total_Ride_Time' in minutes."
   ]
  },
  {
   "cell_type": "code",
   "execution_count": 27,
   "id": "99f94a31",
   "metadata": {
    "execution": {
     "iopub.execute_input": "2021-12-30T12:43:51.127602Z",
     "iopub.status.busy": "2021-12-30T12:43:51.125822Z",
     "iopub.status.idle": "2021-12-30T12:43:51.130572Z",
     "shell.execute_reply": "2021-12-30T12:43:51.130030Z",
     "shell.execute_reply.started": "2021-12-30T12:14:56.223783Z"
    },
    "papermill": {
     "duration": 0.065132,
     "end_time": "2021-12-30T12:43:51.130722",
     "exception": false,
     "start_time": "2021-12-30T12:43:51.065590",
     "status": "completed"
    },
    "tags": []
   },
   "outputs": [],
   "source": [
    "import datetime as datetime\n",
    "from datetime import timedelta"
   ]
  },
  {
   "cell_type": "code",
   "execution_count": 28,
   "id": "a9970d84",
   "metadata": {
    "execution": {
     "iopub.execute_input": "2021-12-30T12:43:51.252183Z",
     "iopub.status.busy": "2021-12-30T12:43:51.251177Z",
     "iopub.status.idle": "2021-12-30T12:43:51.312446Z",
     "shell.execute_reply": "2021-12-30T12:43:51.311821Z",
     "shell.execute_reply.started": "2021-12-30T12:14:59.583748Z"
    },
    "papermill": {
     "duration": 0.123898,
     "end_time": "2021-12-30T12:43:51.312604",
     "exception": false,
     "start_time": "2021-12-30T12:43:51.188706",
     "status": "completed"
    },
    "tags": []
   },
   "outputs": [],
   "source": [
    "bike_share['Total_Ride_Time'] = (bike_share['ended_at'] - bike_share['started_at'])"
   ]
  },
  {
   "cell_type": "code",
   "execution_count": 29,
   "id": "f0d34c6e",
   "metadata": {
    "execution": {
     "iopub.execute_input": "2021-12-30T12:43:51.458679Z",
     "iopub.status.busy": "2021-12-30T12:43:51.457952Z",
     "iopub.status.idle": "2021-12-30T12:43:51.481822Z",
     "shell.execute_reply": "2021-12-30T12:43:51.482434Z",
     "shell.execute_reply.started": "2021-12-30T12:15:03.812749Z"
    },
    "papermill": {
     "duration": 0.094818,
     "end_time": "2021-12-30T12:43:51.482631",
     "exception": false,
     "start_time": "2021-12-30T12:43:51.387813",
     "status": "completed"
    },
    "tags": []
   },
   "outputs": [],
   "source": [
    "bike_share['Total_Ride_Time'] = (bike_share['Total_Ride_Time'])/timedelta(minutes=1)"
   ]
  },
  {
   "cell_type": "code",
   "execution_count": 30,
   "id": "232d482c",
   "metadata": {
    "execution": {
     "iopub.execute_input": "2021-12-30T12:43:51.611333Z",
     "iopub.status.busy": "2021-12-30T12:43:51.610610Z",
     "iopub.status.idle": "2021-12-30T12:43:51.642041Z",
     "shell.execute_reply": "2021-12-30T12:43:51.641463Z",
     "shell.execute_reply.started": "2021-12-30T12:15:21.368058Z"
    },
    "papermill": {
     "duration": 0.096627,
     "end_time": "2021-12-30T12:43:51.642201",
     "exception": false,
     "start_time": "2021-12-30T12:43:51.545574",
     "status": "completed"
    },
    "tags": []
   },
   "outputs": [],
   "source": [
    "bike_share['Total_Ride_Time'] = bike_share['Total_Ride_Time'].round(decimals = 1)"
   ]
  },
  {
   "cell_type": "code",
   "execution_count": 31,
   "id": "2e8199ee",
   "metadata": {
    "execution": {
     "iopub.execute_input": "2021-12-30T12:43:51.769131Z",
     "iopub.status.busy": "2021-12-30T12:43:51.768274Z",
     "iopub.status.idle": "2021-12-30T12:43:51.790230Z",
     "shell.execute_reply": "2021-12-30T12:43:51.790809Z",
     "shell.execute_reply.started": "2021-12-30T12:15:25.733511Z"
    },
    "papermill": {
     "duration": 0.088502,
     "end_time": "2021-12-30T12:43:51.790998",
     "exception": false,
     "start_time": "2021-12-30T12:43:51.702496",
     "status": "completed"
    },
    "tags": []
   },
   "outputs": [
    {
     "data": {
      "text/html": [
       "<div>\n",
       "<style scoped>\n",
       "    .dataframe tbody tr th:only-of-type {\n",
       "        vertical-align: middle;\n",
       "    }\n",
       "\n",
       "    .dataframe tbody tr th {\n",
       "        vertical-align: top;\n",
       "    }\n",
       "\n",
       "    .dataframe thead th {\n",
       "        text-align: right;\n",
       "    }\n",
       "</style>\n",
       "<table border=\"1\" class=\"dataframe\">\n",
       "  <thead>\n",
       "    <tr style=\"text-align: right;\">\n",
       "      <th></th>\n",
       "      <th>ride_id</th>\n",
       "      <th>rideable_type</th>\n",
       "      <th>started_at</th>\n",
       "      <th>ended_at</th>\n",
       "      <th>start_station_name</th>\n",
       "      <th>start_station_id</th>\n",
       "      <th>end_station_name</th>\n",
       "      <th>end_station_id</th>\n",
       "      <th>start_lat</th>\n",
       "      <th>start_lng</th>\n",
       "      <th>end_lat</th>\n",
       "      <th>end_lng</th>\n",
       "      <th>member_casual</th>\n",
       "      <th>Hour</th>\n",
       "      <th>Day</th>\n",
       "      <th>Month</th>\n",
       "      <th>Total_Ride_Time</th>\n",
       "    </tr>\n",
       "  </thead>\n",
       "  <tbody>\n",
       "    <tr>\n",
       "      <th>0</th>\n",
       "      <td>A847FADBBC638E45</td>\n",
       "      <td>docked_bike</td>\n",
       "      <td>2020-04-26 17:45:14</td>\n",
       "      <td>2020-04-26 18:12:03</td>\n",
       "      <td>Eckhart Park</td>\n",
       "      <td>86.0</td>\n",
       "      <td>Lincoln Ave &amp; Diversey Pkwy</td>\n",
       "      <td>86.0</td>\n",
       "      <td>41.8964</td>\n",
       "      <td>-87.6610</td>\n",
       "      <td>41.9322</td>\n",
       "      <td>-87.6586</td>\n",
       "      <td>member</td>\n",
       "      <td>17</td>\n",
       "      <td>Sunday</td>\n",
       "      <td>4</td>\n",
       "      <td>26.8</td>\n",
       "    </tr>\n",
       "    <tr>\n",
       "      <th>1</th>\n",
       "      <td>5405B80E996FF60D</td>\n",
       "      <td>docked_bike</td>\n",
       "      <td>2020-04-17 17:08:54</td>\n",
       "      <td>2020-04-17 17:17:03</td>\n",
       "      <td>Drake Ave &amp; Fullerton Ave</td>\n",
       "      <td>503.0</td>\n",
       "      <td>Kosciuszko Park</td>\n",
       "      <td>503.0</td>\n",
       "      <td>41.9244</td>\n",
       "      <td>-87.7154</td>\n",
       "      <td>41.9306</td>\n",
       "      <td>-87.7238</td>\n",
       "      <td>member</td>\n",
       "      <td>17</td>\n",
       "      <td>Friday</td>\n",
       "      <td>4</td>\n",
       "      <td>8.2</td>\n",
       "    </tr>\n",
       "    <tr>\n",
       "      <th>2</th>\n",
       "      <td>5DD24A79A4E006F4</td>\n",
       "      <td>docked_bike</td>\n",
       "      <td>2020-04-01 17:54:13</td>\n",
       "      <td>2020-04-01 18:08:36</td>\n",
       "      <td>McClurg Ct &amp; Erie St</td>\n",
       "      <td>142.0</td>\n",
       "      <td>Indiana Ave &amp; Roosevelt Rd</td>\n",
       "      <td>142.0</td>\n",
       "      <td>41.8945</td>\n",
       "      <td>-87.6179</td>\n",
       "      <td>41.8679</td>\n",
       "      <td>-87.6230</td>\n",
       "      <td>member</td>\n",
       "      <td>17</td>\n",
       "      <td>Wednesday</td>\n",
       "      <td>4</td>\n",
       "      <td>14.4</td>\n",
       "    </tr>\n",
       "    <tr>\n",
       "      <th>3</th>\n",
       "      <td>2A59BBDF5CDBA725</td>\n",
       "      <td>docked_bike</td>\n",
       "      <td>2020-04-07 12:50:19</td>\n",
       "      <td>2020-04-07 13:02:31</td>\n",
       "      <td>California Ave &amp; Division St</td>\n",
       "      <td>216.0</td>\n",
       "      <td>Wood St &amp; Augusta Blvd</td>\n",
       "      <td>216.0</td>\n",
       "      <td>41.9030</td>\n",
       "      <td>-87.6975</td>\n",
       "      <td>41.8992</td>\n",
       "      <td>-87.6722</td>\n",
       "      <td>member</td>\n",
       "      <td>12</td>\n",
       "      <td>Tuesday</td>\n",
       "      <td>4</td>\n",
       "      <td>12.2</td>\n",
       "    </tr>\n",
       "    <tr>\n",
       "      <th>4</th>\n",
       "      <td>27AD306C119C6158</td>\n",
       "      <td>docked_bike</td>\n",
       "      <td>2020-04-18 10:22:59</td>\n",
       "      <td>2020-04-18 11:15:54</td>\n",
       "      <td>Rush St &amp; Hubbard St</td>\n",
       "      <td>125.0</td>\n",
       "      <td>Sheridan Rd &amp; Lawrence Ave</td>\n",
       "      <td>125.0</td>\n",
       "      <td>41.8902</td>\n",
       "      <td>-87.6262</td>\n",
       "      <td>41.9695</td>\n",
       "      <td>-87.6547</td>\n",
       "      <td>casual</td>\n",
       "      <td>10</td>\n",
       "      <td>Saturday</td>\n",
       "      <td>4</td>\n",
       "      <td>52.9</td>\n",
       "    </tr>\n",
       "  </tbody>\n",
       "</table>\n",
       "</div>"
      ],
      "text/plain": [
       "            ride_id rideable_type          started_at            ended_at  \\\n",
       "0  A847FADBBC638E45   docked_bike 2020-04-26 17:45:14 2020-04-26 18:12:03   \n",
       "1  5405B80E996FF60D   docked_bike 2020-04-17 17:08:54 2020-04-17 17:17:03   \n",
       "2  5DD24A79A4E006F4   docked_bike 2020-04-01 17:54:13 2020-04-01 18:08:36   \n",
       "3  2A59BBDF5CDBA725   docked_bike 2020-04-07 12:50:19 2020-04-07 13:02:31   \n",
       "4  27AD306C119C6158   docked_bike 2020-04-18 10:22:59 2020-04-18 11:15:54   \n",
       "\n",
       "             start_station_name start_station_id             end_station_name  \\\n",
       "0                  Eckhart Park             86.0  Lincoln Ave & Diversey Pkwy   \n",
       "1     Drake Ave & Fullerton Ave            503.0              Kosciuszko Park   \n",
       "2          McClurg Ct & Erie St            142.0   Indiana Ave & Roosevelt Rd   \n",
       "3  California Ave & Division St            216.0       Wood St & Augusta Blvd   \n",
       "4          Rush St & Hubbard St            125.0   Sheridan Rd & Lawrence Ave   \n",
       "\n",
       "  end_station_id  start_lat  start_lng  end_lat  end_lng member_casual  Hour  \\\n",
       "0           86.0    41.8964   -87.6610  41.9322 -87.6586        member    17   \n",
       "1          503.0    41.9244   -87.7154  41.9306 -87.7238        member    17   \n",
       "2          142.0    41.8945   -87.6179  41.8679 -87.6230        member    17   \n",
       "3          216.0    41.9030   -87.6975  41.8992 -87.6722        member    12   \n",
       "4          125.0    41.8902   -87.6262  41.9695 -87.6547        casual    10   \n",
       "\n",
       "         Day  Month  Total_Ride_Time  \n",
       "0     Sunday      4             26.8  \n",
       "1     Friday      4              8.2  \n",
       "2  Wednesday      4             14.4  \n",
       "3    Tuesday      4             12.2  \n",
       "4   Saturday      4             52.9  "
      ]
     },
     "execution_count": 31,
     "metadata": {},
     "output_type": "execute_result"
    }
   ],
   "source": [
    "bike_share.head()"
   ]
  },
  {
   "cell_type": "markdown",
   "id": "8f842359",
   "metadata": {
    "papermill": {
     "duration": 0.060426,
     "end_time": "2021-12-30T12:43:51.912217",
     "exception": false,
     "start_time": "2021-12-30T12:43:51.851791",
     "status": "completed"
    },
    "tags": []
   },
   "source": [
    "Let's calculate the ride distance in Kms from given coordinates."
   ]
  },
  {
   "cell_type": "code",
   "execution_count": 32,
   "id": "c1f62bb1",
   "metadata": {
    "execution": {
     "iopub.execute_input": "2021-12-30T12:43:52.039824Z",
     "iopub.status.busy": "2021-12-30T12:43:52.039050Z",
     "iopub.status.idle": "2021-12-30T12:43:52.056065Z",
     "shell.execute_reply": "2021-12-30T12:43:52.055383Z",
     "shell.execute_reply.started": "2021-12-30T12:15:38.344322Z"
    },
    "papermill": {
     "duration": 0.081648,
     "end_time": "2021-12-30T12:43:52.056256",
     "exception": false,
     "start_time": "2021-12-30T12:43:51.974608",
     "status": "completed"
    },
    "tags": []
   },
   "outputs": [],
   "source": [
    "bike_share['Lat'] = (bike_share['end_lat'] - bike_share['start_lat'])"
   ]
  },
  {
   "cell_type": "code",
   "execution_count": 33,
   "id": "bace982b",
   "metadata": {
    "execution": {
     "iopub.execute_input": "2021-12-30T12:43:52.176894Z",
     "iopub.status.busy": "2021-12-30T12:43:52.175861Z",
     "iopub.status.idle": "2021-12-30T12:43:52.197313Z",
     "shell.execute_reply": "2021-12-30T12:43:52.196701Z",
     "shell.execute_reply.started": "2021-12-30T12:16:03.287841Z"
    },
    "papermill": {
     "duration": 0.082416,
     "end_time": "2021-12-30T12:43:52.197568",
     "exception": false,
     "start_time": "2021-12-30T12:43:52.115152",
     "status": "completed"
    },
    "tags": []
   },
   "outputs": [],
   "source": [
    "bike_share['Lng'] = (bike_share['end_lng']) - bike_share['start_lng']"
   ]
  },
  {
   "cell_type": "code",
   "execution_count": 34,
   "id": "bd9e0d61",
   "metadata": {
    "execution": {
     "iopub.execute_input": "2021-12-30T12:43:52.320310Z",
     "iopub.status.busy": "2021-12-30T12:43:52.319295Z",
     "iopub.status.idle": "2021-12-30T12:43:52.323537Z",
     "shell.execute_reply": "2021-12-30T12:43:52.322857Z",
     "shell.execute_reply.started": "2021-12-30T12:16:22.005121Z"
    },
    "papermill": {
     "duration": 0.065437,
     "end_time": "2021-12-30T12:43:52.323682",
     "exception": false,
     "start_time": "2021-12-30T12:43:52.258245",
     "status": "completed"
    },
    "tags": []
   },
   "outputs": [],
   "source": [
    "import math"
   ]
  },
  {
   "cell_type": "code",
   "execution_count": 35,
   "id": "ab300a26",
   "metadata": {
    "execution": {
     "iopub.execute_input": "2021-12-30T12:43:52.445227Z",
     "iopub.status.busy": "2021-12-30T12:43:52.444508Z",
     "iopub.status.idle": "2021-12-30T12:43:52.510528Z",
     "shell.execute_reply": "2021-12-30T12:43:52.509951Z",
     "shell.execute_reply.started": "2021-12-30T12:16:29.863989Z"
    },
    "papermill": {
     "duration": 0.127794,
     "end_time": "2021-12-30T12:43:52.510690",
     "exception": false,
     "start_time": "2021-12-30T12:43:52.382896",
     "status": "completed"
    },
    "tags": []
   },
   "outputs": [],
   "source": [
    "bike_share['Distance'] = np.sqrt((bike_share['Lat']** 2) + (bike_share['Lng'] ** 2))"
   ]
  },
  {
   "cell_type": "code",
   "execution_count": 36,
   "id": "4b98e8f2",
   "metadata": {
    "execution": {
     "iopub.execute_input": "2021-12-30T12:43:52.634387Z",
     "iopub.status.busy": "2021-12-30T12:43:52.633637Z",
     "iopub.status.idle": "2021-12-30T12:43:52.655171Z",
     "shell.execute_reply": "2021-12-30T12:43:52.655746Z",
     "shell.execute_reply.started": "2021-12-30T12:16:31.997596Z"
    },
    "papermill": {
     "duration": 0.085201,
     "end_time": "2021-12-30T12:43:52.655940",
     "exception": false,
     "start_time": "2021-12-30T12:43:52.570739",
     "status": "completed"
    },
    "tags": []
   },
   "outputs": [],
   "source": [
    "bike_share['Distance'] = bike_share['Distance'] * 111"
   ]
  },
  {
   "cell_type": "code",
   "execution_count": 37,
   "id": "3d920b99",
   "metadata": {
    "execution": {
     "iopub.execute_input": "2021-12-30T12:43:52.782715Z",
     "iopub.status.busy": "2021-12-30T12:43:52.781897Z",
     "iopub.status.idle": "2021-12-30T12:43:52.784594Z",
     "shell.execute_reply": "2021-12-30T12:43:52.785137Z",
     "shell.execute_reply.started": "2021-12-30T12:16:34.863429Z"
    },
    "papermill": {
     "duration": 0.06883,
     "end_time": "2021-12-30T12:43:52.785319",
     "exception": false,
     "start_time": "2021-12-30T12:43:52.716489",
     "status": "completed"
    },
    "tags": []
   },
   "outputs": [
    {
     "data": {
      "text/plain": [
       "0    3.982720\n",
       "1    1.158874\n",
       "2    3.006379\n",
       "3    2.839800\n",
       "4    9.353514\n",
       "Name: Distance, dtype: float64"
      ]
     },
     "execution_count": 37,
     "metadata": {},
     "output_type": "execute_result"
    }
   ],
   "source": [
    "bike_share['Distance'].head()"
   ]
  },
  {
   "cell_type": "code",
   "execution_count": 38,
   "id": "7e34ef1a",
   "metadata": {
    "execution": {
     "iopub.execute_input": "2021-12-30T12:43:52.909271Z",
     "iopub.status.busy": "2021-12-30T12:43:52.908273Z",
     "iopub.status.idle": "2021-12-30T12:43:52.937243Z",
     "shell.execute_reply": "2021-12-30T12:43:52.937833Z",
     "shell.execute_reply.started": "2021-12-30T12:16:38.393766Z"
    },
    "papermill": {
     "duration": 0.093399,
     "end_time": "2021-12-30T12:43:52.938201",
     "exception": false,
     "start_time": "2021-12-30T12:43:52.844802",
     "status": "completed"
    },
    "tags": []
   },
   "outputs": [],
   "source": [
    "bike_share['Distance'] = bike_share['Distance'].round(decimals = 2)"
   ]
  },
  {
   "cell_type": "code",
   "execution_count": 39,
   "id": "dc7a5e3f",
   "metadata": {
    "execution": {
     "iopub.execute_input": "2021-12-30T12:43:53.061336Z",
     "iopub.status.busy": "2021-12-30T12:43:53.058390Z",
     "iopub.status.idle": "2021-12-30T12:43:53.084678Z",
     "shell.execute_reply": "2021-12-30T12:43:53.085279Z",
     "shell.execute_reply.started": "2021-12-30T12:16:48.494595Z"
    },
    "papermill": {
     "duration": 0.088367,
     "end_time": "2021-12-30T12:43:53.085464",
     "exception": false,
     "start_time": "2021-12-30T12:43:52.997097",
     "status": "completed"
    },
    "tags": []
   },
   "outputs": [
    {
     "data": {
      "text/html": [
       "<div>\n",
       "<style scoped>\n",
       "    .dataframe tbody tr th:only-of-type {\n",
       "        vertical-align: middle;\n",
       "    }\n",
       "\n",
       "    .dataframe tbody tr th {\n",
       "        vertical-align: top;\n",
       "    }\n",
       "\n",
       "    .dataframe thead th {\n",
       "        text-align: right;\n",
       "    }\n",
       "</style>\n",
       "<table border=\"1\" class=\"dataframe\">\n",
       "  <thead>\n",
       "    <tr style=\"text-align: right;\">\n",
       "      <th></th>\n",
       "      <th>ride_id</th>\n",
       "      <th>rideable_type</th>\n",
       "      <th>started_at</th>\n",
       "      <th>ended_at</th>\n",
       "      <th>start_station_name</th>\n",
       "      <th>start_station_id</th>\n",
       "      <th>end_station_name</th>\n",
       "      <th>end_station_id</th>\n",
       "      <th>start_lat</th>\n",
       "      <th>start_lng</th>\n",
       "      <th>end_lat</th>\n",
       "      <th>end_lng</th>\n",
       "      <th>member_casual</th>\n",
       "      <th>Hour</th>\n",
       "      <th>Day</th>\n",
       "      <th>Month</th>\n",
       "      <th>Total_Ride_Time</th>\n",
       "      <th>Lat</th>\n",
       "      <th>Lng</th>\n",
       "      <th>Distance</th>\n",
       "    </tr>\n",
       "  </thead>\n",
       "  <tbody>\n",
       "    <tr>\n",
       "      <th>0</th>\n",
       "      <td>A847FADBBC638E45</td>\n",
       "      <td>docked_bike</td>\n",
       "      <td>2020-04-26 17:45:14</td>\n",
       "      <td>2020-04-26 18:12:03</td>\n",
       "      <td>Eckhart Park</td>\n",
       "      <td>86.0</td>\n",
       "      <td>Lincoln Ave &amp; Diversey Pkwy</td>\n",
       "      <td>86.0</td>\n",
       "      <td>41.8964</td>\n",
       "      <td>-87.6610</td>\n",
       "      <td>41.9322</td>\n",
       "      <td>-87.6586</td>\n",
       "      <td>member</td>\n",
       "      <td>17</td>\n",
       "      <td>Sunday</td>\n",
       "      <td>4</td>\n",
       "      <td>26.8</td>\n",
       "      <td>0.0358</td>\n",
       "      <td>0.0024</td>\n",
       "      <td>3.98</td>\n",
       "    </tr>\n",
       "    <tr>\n",
       "      <th>1</th>\n",
       "      <td>5405B80E996FF60D</td>\n",
       "      <td>docked_bike</td>\n",
       "      <td>2020-04-17 17:08:54</td>\n",
       "      <td>2020-04-17 17:17:03</td>\n",
       "      <td>Drake Ave &amp; Fullerton Ave</td>\n",
       "      <td>503.0</td>\n",
       "      <td>Kosciuszko Park</td>\n",
       "      <td>503.0</td>\n",
       "      <td>41.9244</td>\n",
       "      <td>-87.7154</td>\n",
       "      <td>41.9306</td>\n",
       "      <td>-87.7238</td>\n",
       "      <td>member</td>\n",
       "      <td>17</td>\n",
       "      <td>Friday</td>\n",
       "      <td>4</td>\n",
       "      <td>8.2</td>\n",
       "      <td>0.0062</td>\n",
       "      <td>-0.0084</td>\n",
       "      <td>1.16</td>\n",
       "    </tr>\n",
       "    <tr>\n",
       "      <th>2</th>\n",
       "      <td>5DD24A79A4E006F4</td>\n",
       "      <td>docked_bike</td>\n",
       "      <td>2020-04-01 17:54:13</td>\n",
       "      <td>2020-04-01 18:08:36</td>\n",
       "      <td>McClurg Ct &amp; Erie St</td>\n",
       "      <td>142.0</td>\n",
       "      <td>Indiana Ave &amp; Roosevelt Rd</td>\n",
       "      <td>142.0</td>\n",
       "      <td>41.8945</td>\n",
       "      <td>-87.6179</td>\n",
       "      <td>41.8679</td>\n",
       "      <td>-87.6230</td>\n",
       "      <td>member</td>\n",
       "      <td>17</td>\n",
       "      <td>Wednesday</td>\n",
       "      <td>4</td>\n",
       "      <td>14.4</td>\n",
       "      <td>-0.0266</td>\n",
       "      <td>-0.0051</td>\n",
       "      <td>3.01</td>\n",
       "    </tr>\n",
       "    <tr>\n",
       "      <th>3</th>\n",
       "      <td>2A59BBDF5CDBA725</td>\n",
       "      <td>docked_bike</td>\n",
       "      <td>2020-04-07 12:50:19</td>\n",
       "      <td>2020-04-07 13:02:31</td>\n",
       "      <td>California Ave &amp; Division St</td>\n",
       "      <td>216.0</td>\n",
       "      <td>Wood St &amp; Augusta Blvd</td>\n",
       "      <td>216.0</td>\n",
       "      <td>41.9030</td>\n",
       "      <td>-87.6975</td>\n",
       "      <td>41.8992</td>\n",
       "      <td>-87.6722</td>\n",
       "      <td>member</td>\n",
       "      <td>12</td>\n",
       "      <td>Tuesday</td>\n",
       "      <td>4</td>\n",
       "      <td>12.2</td>\n",
       "      <td>-0.0038</td>\n",
       "      <td>0.0253</td>\n",
       "      <td>2.84</td>\n",
       "    </tr>\n",
       "    <tr>\n",
       "      <th>4</th>\n",
       "      <td>27AD306C119C6158</td>\n",
       "      <td>docked_bike</td>\n",
       "      <td>2020-04-18 10:22:59</td>\n",
       "      <td>2020-04-18 11:15:54</td>\n",
       "      <td>Rush St &amp; Hubbard St</td>\n",
       "      <td>125.0</td>\n",
       "      <td>Sheridan Rd &amp; Lawrence Ave</td>\n",
       "      <td>125.0</td>\n",
       "      <td>41.8902</td>\n",
       "      <td>-87.6262</td>\n",
       "      <td>41.9695</td>\n",
       "      <td>-87.6547</td>\n",
       "      <td>casual</td>\n",
       "      <td>10</td>\n",
       "      <td>Saturday</td>\n",
       "      <td>4</td>\n",
       "      <td>52.9</td>\n",
       "      <td>0.0793</td>\n",
       "      <td>-0.0285</td>\n",
       "      <td>9.35</td>\n",
       "    </tr>\n",
       "  </tbody>\n",
       "</table>\n",
       "</div>"
      ],
      "text/plain": [
       "            ride_id rideable_type          started_at            ended_at  \\\n",
       "0  A847FADBBC638E45   docked_bike 2020-04-26 17:45:14 2020-04-26 18:12:03   \n",
       "1  5405B80E996FF60D   docked_bike 2020-04-17 17:08:54 2020-04-17 17:17:03   \n",
       "2  5DD24A79A4E006F4   docked_bike 2020-04-01 17:54:13 2020-04-01 18:08:36   \n",
       "3  2A59BBDF5CDBA725   docked_bike 2020-04-07 12:50:19 2020-04-07 13:02:31   \n",
       "4  27AD306C119C6158   docked_bike 2020-04-18 10:22:59 2020-04-18 11:15:54   \n",
       "\n",
       "             start_station_name start_station_id             end_station_name  \\\n",
       "0                  Eckhart Park             86.0  Lincoln Ave & Diversey Pkwy   \n",
       "1     Drake Ave & Fullerton Ave            503.0              Kosciuszko Park   \n",
       "2          McClurg Ct & Erie St            142.0   Indiana Ave & Roosevelt Rd   \n",
       "3  California Ave & Division St            216.0       Wood St & Augusta Blvd   \n",
       "4          Rush St & Hubbard St            125.0   Sheridan Rd & Lawrence Ave   \n",
       "\n",
       "  end_station_id  start_lat  start_lng  end_lat  end_lng member_casual  Hour  \\\n",
       "0           86.0    41.8964   -87.6610  41.9322 -87.6586        member    17   \n",
       "1          503.0    41.9244   -87.7154  41.9306 -87.7238        member    17   \n",
       "2          142.0    41.8945   -87.6179  41.8679 -87.6230        member    17   \n",
       "3          216.0    41.9030   -87.6975  41.8992 -87.6722        member    12   \n",
       "4          125.0    41.8902   -87.6262  41.9695 -87.6547        casual    10   \n",
       "\n",
       "         Day  Month  Total_Ride_Time     Lat     Lng  Distance  \n",
       "0     Sunday      4             26.8  0.0358  0.0024      3.98  \n",
       "1     Friday      4              8.2  0.0062 -0.0084      1.16  \n",
       "2  Wednesday      4             14.4 -0.0266 -0.0051      3.01  \n",
       "3    Tuesday      4             12.2 -0.0038  0.0253      2.84  \n",
       "4   Saturday      4             52.9  0.0793 -0.0285      9.35  "
      ]
     },
     "execution_count": 39,
     "metadata": {},
     "output_type": "execute_result"
    }
   ],
   "source": [
    "bike_share.head()"
   ]
  },
  {
   "cell_type": "code",
   "execution_count": 40,
   "id": "2a7fe562",
   "metadata": {
    "execution": {
     "iopub.execute_input": "2021-12-30T12:43:53.212715Z",
     "iopub.status.busy": "2021-12-30T12:43:53.209894Z",
     "iopub.status.idle": "2021-12-30T12:43:53.214979Z",
     "shell.execute_reply": "2021-12-30T12:43:53.215609Z",
     "shell.execute_reply.started": "2021-12-30T12:18:02.762803Z"
    },
    "papermill": {
     "duration": 0.069872,
     "end_time": "2021-12-30T12:43:53.215866",
     "exception": false,
     "start_time": "2021-12-30T12:43:53.145994",
     "status": "completed"
    },
    "tags": []
   },
   "outputs": [],
   "source": [
    "month = {1:'January', 2:'February', 3:'March', 4:'April', 5:'May', 6:'June', 7:'July', 8:'August', 9:'September', 10:'October', 11:'November', 12:'December'}"
   ]
  },
  {
   "cell_type": "code",
   "execution_count": 41,
   "id": "901e769b",
   "metadata": {
    "execution": {
     "iopub.execute_input": "2021-12-30T12:43:53.343379Z",
     "iopub.status.busy": "2021-12-30T12:43:53.342574Z",
     "iopub.status.idle": "2021-12-30T12:43:53.408514Z",
     "shell.execute_reply": "2021-12-30T12:43:53.407736Z",
     "shell.execute_reply.started": "2021-12-30T12:18:05.393641Z"
    },
    "papermill": {
     "duration": 0.130604,
     "end_time": "2021-12-30T12:43:53.408673",
     "exception": false,
     "start_time": "2021-12-30T12:43:53.278069",
     "status": "completed"
    },
    "tags": []
   },
   "outputs": [],
   "source": [
    "bike_share['Month_Name'] = bike_share['Month'].map(month)"
   ]
  },
  {
   "cell_type": "code",
   "execution_count": 42,
   "id": "d69783df",
   "metadata": {
    "execution": {
     "iopub.execute_input": "2021-12-30T12:43:53.542472Z",
     "iopub.status.busy": "2021-12-30T12:43:53.539623Z",
     "iopub.status.idle": "2021-12-30T12:43:53.546632Z",
     "shell.execute_reply": "2021-12-30T12:43:53.547260Z",
     "shell.execute_reply.started": "2021-12-30T12:18:07.627812Z"
    },
    "papermill": {
     "duration": 0.075576,
     "end_time": "2021-12-30T12:43:53.547443",
     "exception": false,
     "start_time": "2021-12-30T12:43:53.471867",
     "status": "completed"
    },
    "tags": []
   },
   "outputs": [
    {
     "data": {
      "text/plain": [
       "0    April\n",
       "1    April\n",
       "2    April\n",
       "3    April\n",
       "4    April\n",
       "Name: Month_Name, dtype: object"
      ]
     },
     "execution_count": 42,
     "metadata": {},
     "output_type": "execute_result"
    }
   ],
   "source": [
    "bike_share['Month_Name'].head()"
   ]
  },
  {
   "cell_type": "markdown",
   "id": "de47189c",
   "metadata": {
    "papermill": {
     "duration": 0.058999,
     "end_time": "2021-12-30T12:43:53.666573",
     "exception": false,
     "start_time": "2021-12-30T12:43:53.607574",
     "status": "completed"
    },
    "tags": []
   },
   "source": [
    "# Data Analysis and Visualization"
   ]
  },
  {
   "cell_type": "code",
   "execution_count": 43,
   "id": "a89dadf7",
   "metadata": {
    "execution": {
     "iopub.execute_input": "2021-12-30T12:43:53.795133Z",
     "iopub.status.busy": "2021-12-30T12:43:53.794181Z",
     "iopub.status.idle": "2021-12-30T12:43:53.797848Z",
     "shell.execute_reply": "2021-12-30T12:43:53.798516Z",
     "shell.execute_reply.started": "2021-12-30T12:18:14.735126Z"
    },
    "papermill": {
     "duration": 0.069849,
     "end_time": "2021-12-30T12:43:53.798714",
     "exception": false,
     "start_time": "2021-12-30T12:43:53.728865",
     "status": "completed"
    },
    "tags": []
   },
   "outputs": [],
   "source": [
    "sns.set_style('whitegrid')"
   ]
  },
  {
   "cell_type": "code",
   "execution_count": 44,
   "id": "47267eb2",
   "metadata": {
    "execution": {
     "iopub.execute_input": "2021-12-30T12:43:53.935853Z",
     "iopub.status.busy": "2021-12-30T12:43:53.931050Z",
     "iopub.status.idle": "2021-12-30T12:43:53.957986Z",
     "shell.execute_reply": "2021-12-30T12:43:53.958567Z",
     "shell.execute_reply.started": "2021-12-30T12:20:47.985469Z"
    },
    "papermill": {
     "duration": 0.095596,
     "end_time": "2021-12-30T12:43:53.958750",
     "exception": false,
     "start_time": "2021-12-30T12:43:53.863154",
     "status": "completed"
    },
    "tags": []
   },
   "outputs": [
    {
     "data": {
      "text/html": [
       "<div>\n",
       "<style scoped>\n",
       "    .dataframe tbody tr th:only-of-type {\n",
       "        vertical-align: middle;\n",
       "    }\n",
       "\n",
       "    .dataframe tbody tr th {\n",
       "        vertical-align: top;\n",
       "    }\n",
       "\n",
       "    .dataframe thead th {\n",
       "        text-align: right;\n",
       "    }\n",
       "</style>\n",
       "<table border=\"1\" class=\"dataframe\">\n",
       "  <thead>\n",
       "    <tr style=\"text-align: right;\">\n",
       "      <th></th>\n",
       "      <th>ride_id</th>\n",
       "      <th>rideable_type</th>\n",
       "      <th>started_at</th>\n",
       "      <th>ended_at</th>\n",
       "      <th>start_station_name</th>\n",
       "      <th>start_station_id</th>\n",
       "      <th>end_station_name</th>\n",
       "      <th>end_station_id</th>\n",
       "      <th>start_lat</th>\n",
       "      <th>start_lng</th>\n",
       "      <th>...</th>\n",
       "      <th>end_lng</th>\n",
       "      <th>member_casual</th>\n",
       "      <th>Hour</th>\n",
       "      <th>Day</th>\n",
       "      <th>Month</th>\n",
       "      <th>Total_Ride_Time</th>\n",
       "      <th>Lat</th>\n",
       "      <th>Lng</th>\n",
       "      <th>Distance</th>\n",
       "      <th>Month_Name</th>\n",
       "    </tr>\n",
       "  </thead>\n",
       "  <tbody>\n",
       "    <tr>\n",
       "      <th>0</th>\n",
       "      <td>A847FADBBC638E45</td>\n",
       "      <td>docked_bike</td>\n",
       "      <td>2020-04-26 17:45:14</td>\n",
       "      <td>2020-04-26 18:12:03</td>\n",
       "      <td>Eckhart Park</td>\n",
       "      <td>86.0</td>\n",
       "      <td>Lincoln Ave &amp; Diversey Pkwy</td>\n",
       "      <td>86.0</td>\n",
       "      <td>41.8964</td>\n",
       "      <td>-87.6610</td>\n",
       "      <td>...</td>\n",
       "      <td>-87.6586</td>\n",
       "      <td>member</td>\n",
       "      <td>17</td>\n",
       "      <td>Sunday</td>\n",
       "      <td>4</td>\n",
       "      <td>26.8</td>\n",
       "      <td>0.0358</td>\n",
       "      <td>0.0024</td>\n",
       "      <td>3.98</td>\n",
       "      <td>April</td>\n",
       "    </tr>\n",
       "    <tr>\n",
       "      <th>1</th>\n",
       "      <td>5405B80E996FF60D</td>\n",
       "      <td>docked_bike</td>\n",
       "      <td>2020-04-17 17:08:54</td>\n",
       "      <td>2020-04-17 17:17:03</td>\n",
       "      <td>Drake Ave &amp; Fullerton Ave</td>\n",
       "      <td>503.0</td>\n",
       "      <td>Kosciuszko Park</td>\n",
       "      <td>503.0</td>\n",
       "      <td>41.9244</td>\n",
       "      <td>-87.7154</td>\n",
       "      <td>...</td>\n",
       "      <td>-87.7238</td>\n",
       "      <td>member</td>\n",
       "      <td>17</td>\n",
       "      <td>Friday</td>\n",
       "      <td>4</td>\n",
       "      <td>8.2</td>\n",
       "      <td>0.0062</td>\n",
       "      <td>-0.0084</td>\n",
       "      <td>1.16</td>\n",
       "      <td>April</td>\n",
       "    </tr>\n",
       "    <tr>\n",
       "      <th>2</th>\n",
       "      <td>5DD24A79A4E006F4</td>\n",
       "      <td>docked_bike</td>\n",
       "      <td>2020-04-01 17:54:13</td>\n",
       "      <td>2020-04-01 18:08:36</td>\n",
       "      <td>McClurg Ct &amp; Erie St</td>\n",
       "      <td>142.0</td>\n",
       "      <td>Indiana Ave &amp; Roosevelt Rd</td>\n",
       "      <td>142.0</td>\n",
       "      <td>41.8945</td>\n",
       "      <td>-87.6179</td>\n",
       "      <td>...</td>\n",
       "      <td>-87.6230</td>\n",
       "      <td>member</td>\n",
       "      <td>17</td>\n",
       "      <td>Wednesday</td>\n",
       "      <td>4</td>\n",
       "      <td>14.4</td>\n",
       "      <td>-0.0266</td>\n",
       "      <td>-0.0051</td>\n",
       "      <td>3.01</td>\n",
       "      <td>April</td>\n",
       "    </tr>\n",
       "  </tbody>\n",
       "</table>\n",
       "<p>3 rows × 21 columns</p>\n",
       "</div>"
      ],
      "text/plain": [
       "            ride_id rideable_type          started_at            ended_at  \\\n",
       "0  A847FADBBC638E45   docked_bike 2020-04-26 17:45:14 2020-04-26 18:12:03   \n",
       "1  5405B80E996FF60D   docked_bike 2020-04-17 17:08:54 2020-04-17 17:17:03   \n",
       "2  5DD24A79A4E006F4   docked_bike 2020-04-01 17:54:13 2020-04-01 18:08:36   \n",
       "\n",
       "          start_station_name start_station_id             end_station_name  \\\n",
       "0               Eckhart Park             86.0  Lincoln Ave & Diversey Pkwy   \n",
       "1  Drake Ave & Fullerton Ave            503.0              Kosciuszko Park   \n",
       "2       McClurg Ct & Erie St            142.0   Indiana Ave & Roosevelt Rd   \n",
       "\n",
       "  end_station_id  start_lat  start_lng  ...  end_lng  member_casual Hour  \\\n",
       "0           86.0    41.8964   -87.6610  ... -87.6586         member   17   \n",
       "1          503.0    41.9244   -87.7154  ... -87.7238         member   17   \n",
       "2          142.0    41.8945   -87.6179  ... -87.6230         member   17   \n",
       "\n",
       "         Day Month  Total_Ride_Time     Lat     Lng  Distance  Month_Name  \n",
       "0     Sunday     4             26.8  0.0358  0.0024      3.98       April  \n",
       "1     Friday     4              8.2  0.0062 -0.0084      1.16       April  \n",
       "2  Wednesday     4             14.4 -0.0266 -0.0051      3.01       April  \n",
       "\n",
       "[3 rows x 21 columns]"
      ]
     },
     "execution_count": 44,
     "metadata": {},
     "output_type": "execute_result"
    }
   ],
   "source": [
    "bike_share.head(3)"
   ]
  },
  {
   "cell_type": "code",
   "execution_count": 45,
   "id": "546d5a4b",
   "metadata": {
    "execution": {
     "iopub.execute_input": "2021-12-30T12:43:54.087409Z",
     "iopub.status.busy": "2021-12-30T12:43:54.086615Z",
     "iopub.status.idle": "2021-12-30T12:44:52.675473Z",
     "shell.execute_reply": "2021-12-30T12:44:52.676029Z",
     "shell.execute_reply.started": "2021-12-30T12:38:42.818803Z"
    },
    "papermill": {
     "duration": 58.655629,
     "end_time": "2021-12-30T12:44:52.676235",
     "exception": false,
     "start_time": "2021-12-30T12:43:54.020606",
     "status": "completed"
    },
    "tags": []
   },
   "outputs": [
    {
     "data": {
      "text/plain": [
       "<AxesSubplot:xlabel='member_casual', ylabel='Distance'>"
      ]
     },
     "execution_count": 45,
     "metadata": {},
     "output_type": "execute_result"
    },
    {
     "data": {
      "image/png": "[encoded data removed]",
      "text/plain": [
       "<Figure size 576x432 with 1 Axes>"
      ]
     },
     "metadata": {},
     "output_type": "display_data"
    }
   ],
   "source": [
    "plt.figure(figsize=(8,6))\n",
    "sns.barplot(x='member_casual', y='Distance', data=bike_share, palette='viridis')"
   ]
  },
  {
   "cell_type": "code",
   "execution_count": 46,
   "id": "c9a53ab4",
   "metadata": {
    "execution": {
     "iopub.execute_input": "2021-12-30T12:44:52.802484Z",
     "iopub.status.busy": "2021-12-30T12:44:52.801629Z",
     "iopub.status.idle": "2021-12-30T12:45:53.043564Z",
     "shell.execute_reply": "2021-12-30T12:45:53.042593Z",
     "shell.execute_reply.started": "2021-12-30T12:19:44.348584Z"
    },
    "papermill": {
     "duration": 60.306264,
     "end_time": "2021-12-30T12:45:53.043752",
     "exception": false,
     "start_time": "2021-12-30T12:44:52.737488",
     "status": "completed"
    },
    "tags": []
   },
   "outputs": [
    {
     "data": {
      "text/plain": [
       "<AxesSubplot:xlabel='member_casual', ylabel='Total_Ride_Time'>"
      ]
     },
     "execution_count": 46,
     "metadata": {},
     "output_type": "execute_result"
    },
    {
     "data": {
      "image/png": "[encoded data removed]",
      "text/plain": [
       "<Figure size 576x432 with 1 Axes>"
      ]
     },
     "metadata": {},
     "output_type": "display_data"
    }
   ],
   "source": [
    "plt.figure(figsize=(8,6))\n",
    "sns.barplot(x='member_casual', y='Total_Ride_Time', data=bike_share, palette='viridis')"
   ]
  },
  {
   "cell_type": "markdown",
   "id": "84625267",
   "metadata": {
    "papermill": {
     "duration": 0.061968,
     "end_time": "2021-12-30T12:45:53.168720",
     "exception": false,
     "start_time": "2021-12-30T12:45:53.106752",
     "status": "completed"
    },
    "tags": []
   },
   "source": [
    "* In the first plot, we observe that the member riders have travelled longer distance than the casual riders.  However the second plot for 'Total Ride Time' shows casual bikers have more ride time than the member bikers.\n",
    "\n",
    "* We can conclude from the above observations that member riders have short journeys compared to casual ones. Their travel frequency is higher but travel time is lower.\n"
   ]
  },
  {
   "cell_type": "code",
   "execution_count": 47,
   "id": "74cd4503",
   "metadata": {
    "execution": {
     "iopub.execute_input": "2021-12-30T12:45:53.298147Z",
     "iopub.status.busy": "2021-12-30T12:45:53.297167Z",
     "iopub.status.idle": "2021-12-30T12:45:56.951134Z",
     "shell.execute_reply": "2021-12-30T12:45:56.950505Z",
     "shell.execute_reply.started": "2021-12-30T12:37:46.434015Z"
    },
    "papermill": {
     "duration": 3.720608,
     "end_time": "2021-12-30T12:45:56.951323",
     "exception": false,
     "start_time": "2021-12-30T12:45:53.230715",
     "status": "completed"
    },
    "tags": []
   },
   "outputs": [
    {
     "data": {
      "image/png": "[encoded data removed]",
      "text/plain": [
       "<Figure size 864x432 with 1 Axes>"
      ]
     },
     "metadata": {},
     "output_type": "display_data"
    }
   ],
   "source": [
    "plt.figure(figsize=(12,6))\n",
    "sns.countplot(x='Hour', hue='member_casual', data=bike_share, palette='Set1')\n",
    "plt.tight_layout()"
   ]
  },
  {
   "cell_type": "markdown",
   "id": "aba8db95",
   "metadata": {
    "papermill": {
     "duration": 0.062232,
     "end_time": "2021-12-30T12:45:57.077117",
     "exception": false,
     "start_time": "2021-12-30T12:45:57.014885",
     "status": "completed"
    },
    "tags": []
   },
   "source": [
    "* Evening hours see a lot of traffic compared to other timings. This is largly because of office timings of member riders. Casual member also find evening hours productive to go for a ride.\n",
    "\n",
    "* Morning hours are again busy for member riders due to working hours. Casual members are using bikes for rides at late night somewhere around 9-11 PM.\n",
    "\n"
   ]
  },
  {
   "cell_type": "code",
   "execution_count": 48,
   "id": "fcd37647",
   "metadata": {
    "execution": {
     "iopub.execute_input": "2021-12-30T12:45:57.580250Z",
     "iopub.status.busy": "2021-12-30T12:45:57.205046Z",
     "iopub.status.idle": "2021-12-30T12:46:03.826881Z",
     "shell.execute_reply": "2021-12-30T12:46:03.826326Z",
     "shell.execute_reply.started": "2021-12-30T12:37:59.373289Z"
    },
    "papermill": {
     "duration": 6.687056,
     "end_time": "2021-12-30T12:46:03.827072",
     "exception": false,
     "start_time": "2021-12-30T12:45:57.140016",
     "status": "completed"
    },
    "tags": []
   },
   "outputs": [
    {
     "data": {
      "image/png": "[encoded data removed]",
      "text/plain": [
       "<Figure size 720x432 with 1 Axes>"
      ]
     },
     "metadata": {},
     "output_type": "display_data"
    }
   ],
   "source": [
    "plt.figure(figsize=(10,6))\n",
    "order = [\"Monday\", \"Tuesday\", \"Wednesday\", \"Thursday\", \"Friday\", \"Saturday\", \"Sunday\"]\n",
    "sns.countplot(x='Day', hue='member_casual', data=bike_share, palette='viridis', order=order)\n",
    "plt.tight_layout()"
   ]
  },
  {
   "cell_type": "markdown",
   "id": "94f598bb",
   "metadata": {
    "papermill": {
     "duration": 0.063541,
     "end_time": "2021-12-30T12:46:03.955082",
     "exception": false,
     "start_time": "2021-12-30T12:46:03.891541",
     "status": "completed"
    },
    "tags": []
   },
   "source": [
    "* Casual riders are enthuasiatic on weekends as they have the highest bike usage on Saturday and  Sunday.\n",
    "\n",
    "* Member riders have consistent use of bikes on weekdays."
   ]
  },
  {
   "cell_type": "code",
   "execution_count": 49,
   "id": "28842865",
   "metadata": {
    "execution": {
     "iopub.execute_input": "2021-12-30T12:46:04.088533Z",
     "iopub.status.busy": "2021-12-30T12:46:04.087767Z",
     "iopub.status.idle": "2021-12-30T12:46:09.963117Z",
     "shell.execute_reply": "2021-12-30T12:46:09.963627Z",
     "shell.execute_reply.started": "2021-12-30T12:38:16.804738Z"
    },
    "papermill": {
     "duration": 5.9444,
     "end_time": "2021-12-30T12:46:09.963843",
     "exception": false,
     "start_time": "2021-12-30T12:46:04.019443",
     "status": "completed"
    },
    "tags": []
   },
   "outputs": [
    {
     "data": {
      "image/png": "[encoded data removed]",
      "text/plain": [
       "<Figure size 864x432 with 1 Axes>"
      ]
     },
     "metadata": {},
     "output_type": "display_data"
    }
   ],
   "source": [
    "plt.figure(figsize=(12,6))\n",
    "order = ['January', 'February', 'March', 'April', 'May', 'June', 'July', 'August', 'September', 'October', 'November','December']\n",
    "sns.countplot(x='Month_Name', hue='member_casual', data=bike_share, palette='ocean', order=order)\n",
    "plt.tight_layout()"
   ]
  },
  {
   "cell_type": "markdown",
   "id": "e7ec5cf9",
   "metadata": {
    "papermill": {
     "duration": 0.065657,
     "end_time": "2021-12-30T12:46:10.096933",
     "exception": false,
     "start_time": "2021-12-30T12:46:10.031276",
     "status": "completed"
    },
    "tags": []
   },
   "source": [
    "* The summer months show the highest usage of bikes. This can be a starting point for preparing business strategy."
   ]
  },
  {
   "cell_type": "markdown",
   "id": "182b8ffe",
   "metadata": {
    "papermill": {
     "duration": 0.067022,
     "end_time": "2021-12-30T12:46:10.230761",
     "exception": false,
     "start_time": "2021-12-30T12:46:10.163739",
     "status": "completed"
    },
    "tags": []
   },
   "source": [
    "# Insights:"
   ]
  },
  {
   "cell_type": "markdown",
   "id": "634e1c4a",
   "metadata": {
    "papermill": {
     "duration": 0.066175,
     "end_time": "2021-12-30T12:46:10.363722",
     "exception": false,
     "start_time": "2021-12-30T12:46:10.297547",
     "status": "completed"
    },
    "tags": []
   },
   "source": [
    "* The bike usage trend **highlightes the purpose** for which the bikes are used.\n",
    "\n",
    "* **Member riders** have annual memberships because their **frequency of bike usage is higher**. They use it for **daily commute of shorter distance**.\n",
    "\n",
    "* **Casual riders** more often use bikes **for leisure or personal activities**. **Their usage is higher on weekends.**\n",
    "\n",
    "* **Summer months are more popular** and business can focus on this period to maximise its profit.\n",
    "\n",
    "* **Special 'Summer Membership' can be introduced** specifically for casual riders who're hesitant to go for annual membership.\n",
    "\n",
    "* **Coupons, Discounts schemes can be introduced** for casual riders to **increase their bike usage on weekdays or small distance journeys.**\n",
    "\n",
    "* It is important for business **to develop the idea of using bikes regulary than just for leisure activities in casual riders.**\n"
   ]
  }
 ],
 "metadata": {
  "kernelspec": {
   "display_name": "Python 3 (ipykernel)",
   "language": "python",
   "name": "python3"
  },
  "language_info": {
   "codemirror_mode": {
    "name": "ipython",
    "version": 3
   },
   "file_extension": ".py",
   "mimetype": "text/x-python",
   "name": "python",
   "nbconvert_exporter": "python",
   "pygments_lexer": "ipython3",
   "version": "3.9.13"
  },
  "papermill": {
   "default_parameters": {},
   "duration": 315.753037,
   "end_time": "2021-12-30T12:46:12.347376",
   "environment_variables": {},
   "exception": null,
   "input_path": "__notebook__.ipynb",
   "output_path": "__notebook__.ipynb",
   "parameters": {},
   "start_time": "2021-12-30T12:40:56.594339",
   "version": "2.3.3"
  }
 },
 "nbformat": 4,
 "nbformat_minor": 5
}
